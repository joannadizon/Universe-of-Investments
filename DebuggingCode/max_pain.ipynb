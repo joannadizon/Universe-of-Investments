{
 "cells": [
  {
   "cell_type": "code",
   "execution_count": null,
   "id": "3fc61888",
   "metadata": {},
   "outputs": [],
   "source": [
    "import pandas as pd\n",
    "import yfinance as yf\n",
    "import datetime\n",
    "import matplotlib.pyplot as plt"
   ]
  },
  {
   "cell_type": "code",
   "execution_count": null,
   "id": "58ed30ff",
   "metadata": {},
   "outputs": [],
   "source": [
    "tk = yf.Ticker(\"AMD\")\n",
    "expiry = '2022-05-20'"
   ]
  },
  {
   "cell_type": "code",
   "execution_count": null,
   "id": "7994939b",
   "metadata": {},
   "outputs": [],
   "source": [
    "def options_chain(tk, expiry):\n",
    "    '''\n",
    "    Get's the option chain for a given symbol and expiry date and add it to panda df\n",
    "    Credit: https://medium.com/@txlian13/webscrapping-options-data-with-python-and-yfinance-e4deb0124613\n",
    "    '''\n",
    "    # Get options exp\n",
    "    options = pd.DataFrame()\n",
    "    opt = tk.option_chain(expiry.strip())\n",
    "    opt = pd.DataFrame().append(opt.calls).append(opt.puts)\n",
    "    opt['expirationDate'] = expiry\n",
    "    options = options.append(opt, ignore_index=True)\n",
    "    \n",
    "    # Add 1 day to get the correct expiration date\n",
    "    options['expirationDate'] = pd.to_datetime(options['expirationDate']) + datetime.timedelta(days = 1)\n",
    "    options['dte'] = (options['expirationDate'] - datetime.datetime.today()).dt.days / 365\n",
    "    \n",
    "    # Boolean column if the option is a CALL\n",
    "    options['CALL'] = options['contractSymbol'].str[4:].apply(\n",
    "        lambda x: \"C\" in x)\n",
    "    \n",
    "    options[['bid', 'ask', 'strike']] = options[['bid', 'ask', 'strike']].apply(pd.to_numeric)\n",
    "    \n",
    "    # Drop unnecessary and meaningless columns\n",
    "    options = options.drop(columns = ['contractSize', 'currency', 'change', 'percentChange', 'lastTradeDate', 'lastPrice', 'contractSymbol', 'bid', 'ask', 'impliedVolatility', 'inTheMoney', 'dte'])\n",
    "    \n",
    "    return options"
   ]
  },
  {
   "cell_type": "code",
   "execution_count": null,
   "id": "228f75ed",
   "metadata": {},
   "outputs": [],
   "source": [
    "chain = options_chain(tk, expiry)"
   ]
  },
  {
   "cell_type": "code",
   "execution_count": null,
   "id": "fdccc3ab",
   "metadata": {},
   "outputs": [],
   "source": [
    "def total_loss_on_strike(chain, expiry_price):\n",
    "    '''\n",
    "    Get's the total loss at the given strike price\n",
    "    '''    \n",
    "    # call options with strike price below the expiry price -> loss for option writers\n",
    "    callChain = chain.loc[chain['CALL'] == True]\n",
    "    callChain = callChain.dropna()       \n",
    "    in_money_calls = callChain[callChain['strike'] < expiry_price][[\"openInterest\", \"strike\"]]\n",
    "    in_money_calls[\"CLoss\"] = (expiry_price - in_money_calls['strike'])*in_money_calls[\"openInterest\"]\n",
    "\n",
    "    # get puts n drop null values\n",
    "    putChain = chain.loc[chain['CALL'] == False]\n",
    "    putChain = putChain.dropna()    \n",
    "    \n",
    "    # put options with strike price above the expiry price -> loss for option writers\n",
    "    in_money_puts = putChain[putChain['strike'] > expiry_price][[\"openInterest\", \"strike\"]]\n",
    "    in_money_puts[\"PLoss\"] = (in_money_puts['strike'] - expiry_price)*in_money_puts[\"openInterest\"]\n",
    "    total_loss = in_money_calls[\"CLoss\"].sum() + in_money_puts[\"PLoss\"].sum()\n",
    "\n",
    "    return total_loss"
   ]
  },
  {
   "cell_type": "code",
   "execution_count": null,
   "id": "6c88efc7",
   "metadata": {},
   "outputs": [],
   "source": [
    "total_loss_on_strike(chain, 300)"
   ]
  },
  {
   "cell_type": "code",
   "execution_count": null,
   "id": "2a901d02",
   "metadata": {},
   "outputs": [],
   "source": [
    "def getInput():\n",
    "    '''\n",
    "    gets the user input on symbol and expiry\n",
    "    '''\n",
    "    symbol = input(\"Enter the Symbol: \" )\n",
    "    \n",
    "    tk = yf.Ticker(symbol)\n",
    "    # Expiration dates\n",
    "    exps = tk.options   \n",
    "    print(\"Expiry dates:\")        \n",
    "    for i in exps:\n",
    "        print(f\"{i}\", end=\", \")\n",
    "  \n",
    "    \n",
    "    expiry = input(\"\\nEnter the Expiry data [format: YYYY-MM-DD]: \" )\n",
    "    return tk, expiry, symbol"
   ]
  },
  {
   "cell_type": "code",
   "execution_count": null,
   "id": "0d60bf90",
   "metadata": {},
   "outputs": [],
   "source": [
    "getInput()"
   ]
  },
  {
   "cell_type": "code",
   "execution_count": null,
   "id": "c16f09cb",
   "metadata": {},
   "outputs": [],
   "source": [
    "def main():\n",
    "    '''\n",
    "    Get's the symbol and expiry date n plot the data\n",
    "    '''\n",
    "    # gets the user input on symbol and expiry\n",
    "    tk, expiry, symbol = getInput()\n",
    "    chain = options_chain(tk, expiry)\n",
    "    \n",
    "    strikes = chain.get(['strike']).values.tolist()\n",
    "    losses = [total_loss_on_strike(chain, strike[0]) for strike in strikes] \n",
    "    \n",
    "    # max pain min loss to option writers/sellers at strike price\n",
    "    flat_strikes = [item for sublist in strikes for item in sublist]\n",
    "    point = losses.index(min(losses))\n",
    "    max_pain = flat_strikes[point]\n",
    "    buffer = 3\n",
    "    bufferHigh = max_pain + (max_pain * (buffer/100))\n",
    "    bufferLow = max_pain - (max_pain * (buffer/100))\n",
    "    print(f\"Maximum Pain: {bufferLow} < {max_pain} < {bufferHigh}\")\n",
    "    \n",
    "    # calc put to call ratio\n",
    "    callChain = chain.loc[chain['CALL'] == True]\n",
    "    putChain = chain.loc[chain['CALL'] == False]\n",
    "    pcr = putChain[\"volume\"].sum() / callChain[\"volume\"].sum()\n",
    "    print(\"Put to call ratio:\", round(pcr,2))\n",
    "    \n",
    "    # get the cummulated losses\n",
    "    total = {}\n",
    "    for i in range(len(flat_strikes)):\n",
    "        if flat_strikes[i] not in total: total[flat_strikes[i]] = losses[i]\n",
    "        else: total[flat_strikes[i]] += losses[i]\n",
    "            \n",
    "    \n",
    "    # plot\n",
    "    keys = set(list(total.keys()))\n",
    "    plt.figure(figsize = (15, 6))\n",
    "    plt.bar(list(keys), list(total.values()), width=1)\n",
    "    plt.xlabel('Strike Price')\n",
    "    plt.title(f'{symbol.upper()} Max Pain')    "
   ]
  },
  {
   "cell_type": "code",
   "execution_count": null,
   "id": "7362f7c3",
   "metadata": {},
   "outputs": [],
   "source": [
    "main()"
   ]
  },
  {
   "cell_type": "code",
   "execution_count": null,
   "id": "4220765e",
   "metadata": {},
   "outputs": [],
   "source": []
  }
 ],
 "metadata": {
  "kernelspec": {
   "display_name": "Python 3 (ipykernel)",
   "language": "python",
   "name": "python3"
  },
  "language_info": {
   "codemirror_mode": {
    "name": "ipython",
    "version": 3
   },
   "file_extension": ".py",
   "mimetype": "text/x-python",
   "name": "python",
   "nbconvert_exporter": "python",
   "pygments_lexer": "ipython3",
   "version": "3.9.7"
  }
 },
 "nbformat": 4,
 "nbformat_minor": 5
}
