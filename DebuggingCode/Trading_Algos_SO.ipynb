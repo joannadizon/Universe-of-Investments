{
 "cells": [
  {
   "cell_type": "code",
   "execution_count": 10,
   "id": "8521dc14",
   "metadata": {},
   "outputs": [],
   "source": [
    "import numpy as np\n",
    "import pandas as pd\n",
    "import yfinance as yf\n",
    "import datetime as dt\n",
    "import math\n",
    "import matplotlib.pyplot as plt\n",
    "import plotly\n",
    "import plotly.graph_objects as go\n",
    "import plotly.express as px\n",
    "from plotly.subplots import make_subplots\n",
    "import mplfinance as mpf\n",
    "from matplotlib.lines import Line2D\n",
    "import json"
   ]
  },
  {
   "cell_type": "code",
   "execution_count": 2,
   "id": "9b9595ba",
   "metadata": {},
   "outputs": [],
   "source": [
    "start = dt.datetime.today()-dt.timedelta(360)\n",
    "end = dt.datetime.today()\n",
    "s = dt.datetime.today()-dt.timedelta(90)\n",
    "e = dt.datetime.today()\n",
    "st = dt.datetime.today()-dt.timedelta(2)\n",
    "ed = dt.datetime.today()\n",
    "ticker = 'NVDA'"
   ]
  },
  {
   "cell_type": "code",
   "execution_count": 3,
   "id": "9a27c263",
   "metadata": {},
   "outputs": [
    {
     "name": "stdout",
     "output_type": "stream",
     "text": [
      "[*********************100%***********************]  1 of 1 completed\n"
     ]
    },
    {
     "data": {
      "text/html": [
       "<div>\n",
       "<style scoped>\n",
       "    .dataframe tbody tr th:only-of-type {\n",
       "        vertical-align: middle;\n",
       "    }\n",
       "\n",
       "    .dataframe tbody tr th {\n",
       "        vertical-align: top;\n",
       "    }\n",
       "\n",
       "    .dataframe thead th {\n",
       "        text-align: right;\n",
       "    }\n",
       "</style>\n",
       "<table border=\"1\" class=\"dataframe\">\n",
       "  <thead>\n",
       "    <tr style=\"text-align: right;\">\n",
       "      <th></th>\n",
       "      <th>Open</th>\n",
       "      <th>High</th>\n",
       "      <th>Low</th>\n",
       "      <th>Close</th>\n",
       "      <th>Adj Close</th>\n",
       "      <th>Volume</th>\n",
       "    </tr>\n",
       "    <tr>\n",
       "      <th>Date</th>\n",
       "      <th></th>\n",
       "      <th></th>\n",
       "      <th></th>\n",
       "      <th></th>\n",
       "      <th></th>\n",
       "      <th></th>\n",
       "    </tr>\n",
       "  </thead>\n",
       "  <tbody>\n",
       "    <tr>\n",
       "      <th>2021-06-17</th>\n",
       "      <td>177.744995</td>\n",
       "      <td>188.350006</td>\n",
       "      <td>177.562500</td>\n",
       "      <td>186.572495</td>\n",
       "      <td>186.445557</td>\n",
       "      <td>80965600</td>\n",
       "    </tr>\n",
       "    <tr>\n",
       "      <th>2021-06-18</th>\n",
       "      <td>187.839996</td>\n",
       "      <td>193.750000</td>\n",
       "      <td>185.839996</td>\n",
       "      <td>186.387497</td>\n",
       "      <td>186.260712</td>\n",
       "      <td>96885600</td>\n",
       "    </tr>\n",
       "    <tr>\n",
       "      <th>2021-06-21</th>\n",
       "      <td>184.352493</td>\n",
       "      <td>185.365005</td>\n",
       "      <td>178.227493</td>\n",
       "      <td>184.272507</td>\n",
       "      <td>184.147156</td>\n",
       "      <td>67238400</td>\n",
       "    </tr>\n",
       "    <tr>\n",
       "      <th>2021-06-22</th>\n",
       "      <td>184.714996</td>\n",
       "      <td>189.637497</td>\n",
       "      <td>183.860001</td>\n",
       "      <td>188.867493</td>\n",
       "      <td>188.739029</td>\n",
       "      <td>58014400</td>\n",
       "    </tr>\n",
       "    <tr>\n",
       "      <th>2021-06-23</th>\n",
       "      <td>190.077499</td>\n",
       "      <td>191.527496</td>\n",
       "      <td>189.077499</td>\n",
       "      <td>190.572495</td>\n",
       "      <td>190.442856</td>\n",
       "      <td>33235600</td>\n",
       "    </tr>\n",
       "  </tbody>\n",
       "</table>\n",
       "</div>"
      ],
      "text/plain": [
       "                  Open        High         Low       Close   Adj Close  \\\n",
       "Date                                                                     \n",
       "2021-06-17  177.744995  188.350006  177.562500  186.572495  186.445557   \n",
       "2021-06-18  187.839996  193.750000  185.839996  186.387497  186.260712   \n",
       "2021-06-21  184.352493  185.365005  178.227493  184.272507  184.147156   \n",
       "2021-06-22  184.714996  189.637497  183.860001  188.867493  188.739029   \n",
       "2021-06-23  190.077499  191.527496  189.077499  190.572495  190.442856   \n",
       "\n",
       "              Volume  \n",
       "Date                  \n",
       "2021-06-17  80965600  \n",
       "2021-06-18  96885600  \n",
       "2021-06-21  67238400  \n",
       "2021-06-22  58014400  \n",
       "2021-06-23  33235600  "
      ]
     },
     "execution_count": 3,
     "metadata": {},
     "output_type": "execute_result"
    }
   ],
   "source": [
    "df = yf.download(ticker, start, end)\n",
    "df.head()"
   ]
  },
  {
   "cell_type": "code",
   "execution_count": 4,
   "id": "2719abc8",
   "metadata": {},
   "outputs": [],
   "source": [
    "    \n",
    "#function to calculate the RSI Technical Indicator\n",
    "def RSI(df, n=14):\n",
    "    \"function to calculate RSI\"\n",
    "    df = df.copy()\n",
    "    df[\"change\"] = df[\"Adj Close\"] - df[\"Adj Close\"].shift(1)\n",
    "    df[\"gain\"] = np.where(df[\"change\"]>=0, df[\"change\"], 0)\n",
    "    df[\"loss\"] = np.where(df[\"change\"]<0, -1*df[\"change\"], 0)\n",
    "    df[\"avgGain\"] = df[\"gain\"].ewm(alpha=1/n, min_periods=n).mean()\n",
    "    df[\"avgLoss\"] = df[\"loss\"].ewm(alpha=1/n, min_periods=n).mean()\n",
    "    df[\"rs\"] = df[\"avgGain\"]/df[\"avgLoss\"]\n",
    "    df[\"rsi\"] = 100 - (100/ (1 + df[\"rs\"]))\n",
    "    return df\n",
    "\n",
    "#function stochastic_oscillator\n",
    "def add_stochastic_oscillator(df, periods=14):\n",
    "    copy = df.copy()\n",
    "    high_roll = copy[\"High\"].rolling(periods).max()\n",
    "    low_roll = copy[\"Low\"].rolling(periods).min()\n",
    "    # Fast stochastic indicator\n",
    "    num = copy[\"Adj Close\"] - low_roll\n",
    "    denom = high_roll - low_roll\n",
    "    copy[\"K\"] = (num / denom) * 100\n",
    "    # Slow stochastic indicator\n",
    "    copy[\"D\"] = copy[\"K\"].rolling(3).mean()   \n",
    "    return copy\n",
    "#dfso = add_stochastic_oscillator(df, periods=14)\n",
    "\n",
    "today = dt.datetime.now()\n",
    "\n",
    "date_pattern = \"%Y-%m-%d\"\n",
    "today_str = today.strftime(date_pattern)\n",
    "date_ranges = {\n",
    "    \"1M\": (today - dt.timedelta(days=30)).strftime(date_pattern),\n",
    "    \"3M\": (today - dt.timedelta(days=90)).strftime(date_pattern),\n",
    "    \"6M\": (today - dt.timedelta(days=180)).strftime(date_pattern),\n",
    "    \"1Y\": (today - dt.timedelta(days=365)).strftime(date_pattern),\n",
    "    \"2Y\": (today - dt.timedelta(days=2*365)).strftime(date_pattern),\n",
    "}\n",
    "\n"
   ]
  },
  {
   "cell_type": "code",
   "execution_count": 23,
   "id": "41e41a79",
   "metadata": {},
   "outputs": [],
   "source": [
    "def plot_stochastic_oscillator(dfso, ticker, rng, periods=14):\n",
    "    start = date_ranges[rng]\n",
    "    end = today_str\n",
    "    temp_df = dfso[start:end]\n",
    "    \n",
    "    fig, ax = plt.subplots(nrows=2, ncols=1, sharex=True, tight_layout=True, figsize=(12, 10))\n",
    "\n",
    "    ax[0].set_title(f\"{ticker} price, {rng}\")\n",
    "    ax[0].plot(temp_df[\"Close\"], color=\"tab:blue\")\n",
    "\n",
    "    ax[1].set_title(f\"{ticker} Stochastic Oscillator ({periods}-day period), {rng}\")\n",
    "    ax[1].set_ylim(-10, 110)\n",
    "    ax[1].plot(temp_df[\"K\"], color=\"tab:blue\") # fast\n",
    "    ax[1].plot(temp_df[\"D\"], color=\"tab:orange\") # slow\n",
    "\n",
    "    ax[1].axhline(80, color=\"tab:red\", ls=\"--\")\n",
    "    ax[1].axhline(20, color=\"tab:green\", ls=\"--\")\n",
    "\n",
    "    custom_lines = [\n",
    "        Line2D([0], [0], color=\"tab:blue\", lw=4),\n",
    "        Line2D([0], [0], color=\"tab:orange\", lw=4),\n",
    "        Line2D([0], [0], color=\"tab:red\", lw=4),\n",
    "        Line2D([0], [0], color=\"tab:green\", lw=4),\n",
    "    ]\n",
    "    ax[1].legend(custom_lines, [\"K\", \"D\", \"Overbought\", \"Oversold\"], loc=\"best\")\n",
    "    return fig\n",
    "\n",
    "\n"
   ]
  },
  {
   "cell_type": "code",
   "execution_count": 19,
   "id": "7020f9d1",
   "metadata": {},
   "outputs": [],
   "source": [
    "def new_SO_Plot(stock,period, interval):\n",
    "    start = dt.datetime.today()-dt.timedelta(360)\n",
    "    end = dt.datetime.today()\n",
    "    s = dt.datetime.today()-dt.timedelta(90)\n",
    "    e = dt.datetime.today()\n",
    "    st = dt.datetime.today()-dt.timedelta(2)\n",
    "    ed = dt.datetime.today()\n",
    "    ticker = 'NVDA'\n",
    "    df = yf.download(ticker, start, end)\n",
    "    #df.head()\n",
    "    dfso = add_stochastic_oscillator(df, periods=14)\n",
    "    fig_stock = plot_stochastic_oscillator(dfso, ticker, \"6M\")\n",
    "    graphJSON_stock = json.dumps(fig_stock, cls=plotly.utils.PlotlyJSONEncoder)\n",
    "    return graphJSON_stock"
   ]
  },
  {
   "cell_type": "code",
   "execution_count": 24,
   "id": "48f9ab37",
   "metadata": {},
   "outputs": [],
   "source": [
    "dfso = add_stochastic_oscillator(df, periods=14)"
   ]
  },
  {
   "cell_type": "code",
   "execution_count": 28,
   "id": "88a4cee1",
   "metadata": {},
   "outputs": [
    {
     "name": "stderr",
     "output_type": "stream",
     "text": [
      "/Users/satishsurath/opt/anaconda3/envs/ibkr/lib/python3.9/site-packages/matplotlib/figure.py:2369: UserWarning: This figure includes Axes that are not compatible with tight_layout, so results might be incorrect.\n",
      "  warnings.warn(\"This figure includes Axes that are not compatible \"\n"
     ]
    },
    {
     "data": {
      "image/png": "[encoded data removed]",
      "text/plain": [
       "<Figure size 864x720 with 2 Axes>"
      ]
     },
     "metadata": {
      "needs_background": "light"
     },
     "output_type": "display_data"
    }
   ],
   "source": [
    "fig_stock = plot_stochastic_oscillator(dfso, ticker, \"6M\")"
   ]
  },
  {
   "cell_type": "code",
   "execution_count": 30,
   "id": "5ccab786",
   "metadata": {},
   "outputs": [
    {
     "data": {
      "text/plain": [
       "matplotlib.figure.Figure"
      ]
     },
     "execution_count": 30,
     "metadata": {},
     "output_type": "execute_result"
    }
   ],
   "source": [
    "#graphJSON_stock = json.dumps(fig_stock, cls=plotly.utils.PlotlyJSONEncoder)\n",
    "\n",
    "type(fig_stock)"
   ]
  },
  {
   "cell_type": "code",
   "execution_count": 31,
   "id": "0933cd9f",
   "metadata": {},
   "outputs": [],
   "source": [
    "import plotly.tools as tls"
   ]
  },
  {
   "cell_type": "code",
   "execution_count": 38,
   "id": "30058cb8",
   "metadata": {},
   "outputs": [],
   "source": [
    "plotly_fig = tls.mpl_to_plotly(fig_stock)"
   ]
  },
  {
   "cell_type": "code",
   "execution_count": 39,
   "id": "3ce57fa6",
   "metadata": {},
   "outputs": [
    {
     "data": {
      "text/plain": [
       "plotly.graph_objs._figure.Figure"
      ]
     },
     "execution_count": 39,
     "metadata": {},
     "output_type": "execute_result"
    }
   ],
   "source": [
    "type(plotly_fig)"
   ]
  },
  {
   "cell_type": "code",
   "execution_count": 40,
   "id": "80124885",
   "metadata": {},
   "outputs": [
    {
     "data": {
      "application/vnd.plotly.v1+json": {
       "config": {
        "plotlyServerURL": "https://plot.ly"
       },
       "data": [
        {
         "line": {
          "color": "rgba (31, 119, 180, 1)",
          "dash": "solid",
          "width": 1.5
         },
         "mode": "lines",
         "name": "Close",
         "type": "scatter",
         "x": [
          "2021-12-14 00:00:00",
          "2021-12-15 00:00:00",
          "2021-12-16 00:00:00",
          "2021-12-17 00:00:00",
          "2021-12-20 00:00:00",
          "2021-12-21 00:00:00",
          "2021-12-22 00:00:00",
          "2021-12-23 00:00:00",
          "2021-12-27 00:00:00",
          "2021-12-28 00:00:00",
          "2021-12-29 00:00:00",
          "2021-12-30 00:00:00",
          "2021-12-31 00:00:00",
          "2022-01-03 00:00:00",
          "2022-01-04 00:00:00",
          "2022-01-05 00:00:00",
          "2022-01-06 00:00:00",
          "2022-01-07 00:00:00",
          "2022-01-10 00:00:00",
          "2022-01-11 00:00:00",
          "2022-01-12 00:00:00",
          "2022-01-13 00:00:00",
          "2022-01-14 00:00:00",
          "2022-01-18 00:00:00",
          "2022-01-19 00:00:00",
          "2022-01-20 00:00:00",
          "2022-01-21 00:00:00",
          "2022-01-24 00:00:00",
          "2022-01-25 00:00:00",
          "2022-01-26 00:00:00",
          "2022-01-27 00:00:00",
          "2022-01-28 00:00:00",
          "2022-01-31 00:00:00",
          "2022-02-01 00:00:00",
          "2022-02-02 00:00:00",
          "2022-02-03 00:00:00",
          "2022-02-04 00:00:00",
          "2022-02-07 00:00:00",
          "2022-02-08 00:00:00",
          "2022-02-09 00:00:00",
          "2022-02-10 00:00:00",
          "2022-02-11 00:00:00",
          "2022-02-14 00:00:00",
          "2022-02-15 00:00:00",
          "2022-02-16 00:00:00",
          "2022-02-17 00:00:00",
          "2022-02-18 00:00:00",
          "2022-02-22 00:00:00",
          "2022-02-23 00:00:00",
          "2022-02-24 00:00:00",
          "2022-02-25 00:00:00",
          "2022-02-28 00:00:00",
          "2022-03-01 00:00:00",
          "2022-03-02 00:00:00",
          "2022-03-03 00:00:00",
          "2022-03-04 00:00:00",
          "2022-03-07 00:00:00",
          "2022-03-08 00:00:00",
          "2022-03-09 00:00:00",
          "2022-03-10 00:00:00",
          "2022-03-11 00:00:00",
          "2022-03-14 00:00:00",
          "2022-03-15 00:00:00",
          "2022-03-16 00:00:00",
          "2022-03-17 00:00:00",
          "2022-03-18 00:00:00",
          "2022-03-21 00:00:00",
          "2022-03-22 00:00:00",
          "2022-03-23 00:00:00",
          "2022-03-24 00:00:00",
          "2022-03-25 00:00:00",
          "2022-03-28 00:00:00",
          "2022-03-29 00:00:00",
          "2022-03-30 00:00:00",
          "2022-03-31 00:00:00",
          "2022-04-01 00:00:00",
          "2022-04-04 00:00:00",
          "2022-04-05 00:00:00",
          "2022-04-06 00:00:00",
          "2022-04-07 00:00:00",
          "2022-04-08 00:00:00",
          "2022-04-11 00:00:00",
          "2022-04-12 00:00:00",
          "2022-04-13 00:00:00",
          "2022-04-14 00:00:00",
          "2022-04-18 00:00:00",
          "2022-04-19 00:00:00",
          "2022-04-20 00:00:00",
          "2022-04-21 00:00:00",
          "2022-04-22 00:00:00",
          "2022-04-25 00:00:00",
          "2022-04-26 00:00:00",
          "2022-04-27 00:00:00",
          "2022-04-28 00:00:00",
          "2022-04-29 00:00:00",
          "2022-05-02 00:00:00",
          "2022-05-03 00:00:00",
          "2022-05-04 00:00:00",
          "2022-05-05 00:00:00",
          "2022-05-06 00:00:00",
          "2022-05-09 00:00:00",
          "2022-05-10 00:00:00",
          "2022-05-11 00:00:00",
          "2022-05-12 00:00:00",
          "2022-05-13 00:00:00",
          "2022-05-16 00:00:00",
          "2022-05-17 00:00:00",
          "2022-05-18 00:00:00",
          "2022-05-19 00:00:00",
          "2022-05-20 00:00:00",
          "2022-05-23 00:00:00",
          "2022-05-24 00:00:00",
          "2022-05-25 00:00:00",
          "2022-05-26 00:00:00",
          "2022-05-27 00:00:00",
          "2022-05-31 00:00:00",
          "2022-06-01 00:00:00",
          "2022-06-02 00:00:00",
          "2022-06-03 00:00:00",
          "2022-06-06 00:00:00",
          "2022-06-07 00:00:00",
          "2022-06-08 00:00:00",
          "2022-06-09 00:00:00",
          "2022-06-10 00:00:00"
         ],
         "xaxis": "x",
         "y": [
          283.3699951171875,
          304.5899963378906,
          283.8699951171875,
          278.010009765625,
          277.19000244140625,
          290.75,
          294,
          296.3999938964844,
          309.45001220703125,
          303.2200012207031,
          300.010009765625,
          295.8599853515625,
          294.1099853515625,
          301.2099914550781,
          292.8999938964844,
          276.0400085449219,
          281.7799987792969,
          272.4700012207031,
          274,
          278.1700134277344,
          279.989990234375,
          265.75,
          269.4200134277344,
          259.0299987792969,
          250.6699981689453,
          241.5,
          233.74000549316406,
          233.72000122070312,
          223.24000549316406,
          227.72000122070312,
          219.44000244140625,
          228.39999389648438,
          244.86000061035156,
          246.3800048828125,
          252.4199981689453,
          239.47999572753906,
          243.19000244140625,
          247.27999877929688,
          251.0800018310547,
          267.04998779296875,
          258.239990234375,
          239.49000549316406,
          242.6699981689453,
          264.95001220703125,
          265.1099853515625,
          245.07000732421875,
          236.4199981689453,
          233.89999389648438,
          223.8699951171875,
          237.47999572753906,
          241.57000732421875,
          243.85000610351562,
          234.77000427246094,
          242.1999969482422,
          237.13999938964844,
          229.36000061035156,
          213.52000427246094,
          215.13999938964844,
          230.13999938964844,
          226.5800018310547,
          221,
          213.3000030517578,
          229.72999572753906,
          244.9600067138672,
          247.66000366210938,
          264.5299987792969,
          267.3399963378906,
          265.239990234375,
          256.3399963378906,
          281.5,
          276.9200134277344,
          282.19000244140625,
          286.55999755859375,
          276.8999938964844,
          272.8599853515625,
          267.1199951171875,
          273.6000061035156,
          259.30999755859375,
          244.07000732421875,
          242.0800018310547,
          231.19000244140625,
          219.1699981689453,
          215.0399932861328,
          222.02999877929688,
          212.5800018310547,
          217.8300018310547,
          221.97999572753906,
          214.82000732421875,
          201.8300018310547,
          195.14999389648438,
          199.02000427246094,
          187.8800048828125,
          184.14999389648438,
          197.82000732421875,
          185.47000122070312,
          195.3300018310547,
          196.02000427246094,
          203.33999633789062,
          188.44000244140625,
          186.75,
          169.5,
          175.9499969482422,
          166.3000030517578,
          161.75,
          177.05999755859375,
          172.63999938964844,
          181.77000427246094,
          169.3800048828125,
          171.24000549316406,
          166.94000244140625,
          168.97999572753906,
          161.5399932861328,
          169.75,
          178.50999450683594,
          188.11000061035156,
          186.72000122070312,
          183.1999969482422,
          195.9199981689453,
          187.1999969482422,
          187.86000061035156,
          189.25999450683594,
          186.47999572753906,
          180.47999572753906,
          169.74000549316406
         ],
         "yaxis": "y"
        },
        {
         "line": {
          "color": "rgba (31, 119, 180, 1)",
          "dash": "solid",
          "width": 1.5
         },
         "mode": "lines",
         "name": "K",
         "type": "scatter",
         "x": [
          "2021-12-14 00:00:00",
          "2021-12-15 00:00:00",
          "2021-12-16 00:00:00",
          "2021-12-17 00:00:00",
          "2021-12-20 00:00:00",
          "2021-12-21 00:00:00",
          "2021-12-22 00:00:00",
          "2021-12-23 00:00:00",
          "2021-12-27 00:00:00",
          "2021-12-28 00:00:00",
          "2021-12-29 00:00:00",
          "2021-12-30 00:00:00",
          "2021-12-31 00:00:00",
          "2022-01-03 00:00:00",
          "2022-01-04 00:00:00",
          "2022-01-05 00:00:00",
          "2022-01-06 00:00:00",
          "2022-01-07 00:00:00",
          "2022-01-10 00:00:00",
          "2022-01-11 00:00:00",
          "2022-01-12 00:00:00",
          "2022-01-13 00:00:00",
          "2022-01-14 00:00:00",
          "2022-01-18 00:00:00",
          "2022-01-19 00:00:00",
          "2022-01-20 00:00:00",
          "2022-01-21 00:00:00",
          "2022-01-24 00:00:00",
          "2022-01-25 00:00:00",
          "2022-01-26 00:00:00",
          "2022-01-27 00:00:00",
          "2022-01-28 00:00:00",
          "2022-01-31 00:00:00",
          "2022-02-01 00:00:00",
          "2022-02-02 00:00:00",
          "2022-02-03 00:00:00",
          "2022-02-04 00:00:00",
          "2022-02-07 00:00:00",
          "2022-02-08 00:00:00",
          "2022-02-09 00:00:00",
          "2022-02-10 00:00:00",
          "2022-02-11 00:00:00",
          "2022-02-14 00:00:00",
          "2022-02-15 00:00:00",
          "2022-02-16 00:00:00",
          "2022-02-17 00:00:00",
          "2022-02-18 00:00:00",
          "2022-02-22 00:00:00",
          "2022-02-23 00:00:00",
          "2022-02-24 00:00:00",
          "2022-02-25 00:00:00",
          "2022-02-28 00:00:00",
          "2022-03-01 00:00:00",
          "2022-03-02 00:00:00",
          "2022-03-03 00:00:00",
          "2022-03-04 00:00:00",
          "2022-03-07 00:00:00",
          "2022-03-08 00:00:00",
          "2022-03-09 00:00:00",
          "2022-03-10 00:00:00",
          "2022-03-11 00:00:00",
          "2022-03-14 00:00:00",
          "2022-03-15 00:00:00",
          "2022-03-16 00:00:00",
          "2022-03-17 00:00:00",
          "2022-03-18 00:00:00",
          "2022-03-21 00:00:00",
          "2022-03-22 00:00:00",
          "2022-03-23 00:00:00",
          "2022-03-24 00:00:00",
          "2022-03-25 00:00:00",
          "2022-03-28 00:00:00",
          "2022-03-29 00:00:00",
          "2022-03-30 00:00:00",
          "2022-03-31 00:00:00",
          "2022-04-01 00:00:00",
          "2022-04-04 00:00:00",
          "2022-04-05 00:00:00",
          "2022-04-06 00:00:00",
          "2022-04-07 00:00:00",
          "2022-04-08 00:00:00",
          "2022-04-11 00:00:00",
          "2022-04-12 00:00:00",
          "2022-04-13 00:00:00",
          "2022-04-14 00:00:00",
          "2022-04-18 00:00:00",
          "2022-04-19 00:00:00",
          "2022-04-20 00:00:00",
          "2022-04-21 00:00:00",
          "2022-04-22 00:00:00",
          "2022-04-25 00:00:00",
          "2022-04-26 00:00:00",
          "2022-04-27 00:00:00",
          "2022-04-28 00:00:00",
          "2022-04-29 00:00:00",
          "2022-05-02 00:00:00",
          "2022-05-03 00:00:00",
          "2022-05-04 00:00:00",
          "2022-05-05 00:00:00",
          "2022-05-06 00:00:00",
          "2022-05-09 00:00:00",
          "2022-05-10 00:00:00",
          "2022-05-11 00:00:00",
          "2022-05-12 00:00:00",
          "2022-05-13 00:00:00",
          "2022-05-16 00:00:00",
          "2022-05-17 00:00:00",
          "2022-05-18 00:00:00",
          "2022-05-19 00:00:00",
          "2022-05-20 00:00:00",
          "2022-05-23 00:00:00",
          "2022-05-24 00:00:00",
          "2022-05-25 00:00:00",
          "2022-05-26 00:00:00",
          "2022-05-27 00:00:00",
          "2022-05-31 00:00:00",
          "2022-06-01 00:00:00",
          "2022-06-02 00:00:00",
          "2022-06-03 00:00:00",
          "2022-06-06 00:00:00",
          "2022-06-07 00:00:00",
          "2022-06-08 00:00:00",
          "2022-06-09 00:00:00",
          "2022-06-10 00:00:00"
         ],
         "xaxis": "x2",
         "y": [
          17.464851790146813,
          51.88855387675295,
          18.27597956381948,
          8.85449820509833,
          9.170223904839201,
          35.98162421309779,
          42.30351424096699,
          46.826665377839305,
          71.42140397027872,
          61.524349121218,
          56.216421601148326,
          58.05752038152464,
          53.877521256581154,
          70.83640818469526,
          50.987282511995566,
          10.71594207125877,
          25.843920275051786,
          4.203114465610038,
          30.698941813708547,
          38.02997872463756,
          41.22954849430116,
          16.19514509539563,
          22.647151012136188,
          4.916361209717928,
          0.09599100057405854,
          0.9465144023398195,
          1.3705461041728129,
          25.835904604204803,
          16.738737965005697,
          24.332529509826053,
          13.59315047338473,
          25.21449812507177,
          46.56355551331852,
          48.53504155727936,
          57.22296408073815,
          48.35725545908666,
          59.508136251698375,
          67.73762432340546,
          85.42131153123424,
          99.48271210685806,
          81.59916772992068,
          46.96855886697311,
          52.615693974092316,
          92.1813402526036,
          92.4654264640944,
          37.32628006598354,
          13.934007033803105,
          9.708827316381369,
          1.6750676894190013,
          47.20689601117343,
          53.98146898003539,
          57.7579620024586,
          42.7181576790259,
          55.09329983732388,
          49.52542818157204,
          35.86002235739121,
          8.037374909860038,
          14.48841391955337,
          45.94226205652199,
          46.19953752074946,
          35.99824419386836,
          16.82419516051184,
          57.73710033557939,
          95.66186670315095,
          98.06218466411552,
          97.94574790491343,
          93.4842941459465,
          89.0769961959573,
          75.57046743587512,
          97.7059697466206,
          91.28372206827497,
          97.98636522411496,
          96.19805897687922,
          83.79538838490008,
          78.60834034841851,
          70.62374511254359,
          72.43190361221633,
          40.069827133642185,
          8.068822921464301,
          13.256842178111505,
          0.8857048165807344,
          3.4637206824278026,
          2.837331001509553,
          11.955992400866629,
          1.1628677509956542,
          8.890266862979484,
          15.023704921304187,
          5.558101406111219,
          2.364830079887588,
          0.1349583119512052,
          9.750613515431827,
          1.7199163091131329,
          1.8828897562105067,
          26.412575647211824,
          5.640309582973004,
          27.610240219601366,
          29.147715041925103,
          45.45802031625507,
          12.557494799644797,
          14.552417034415413,
          2.0437587549369747,
          13.733706819541561,
          1.4927361090718896,
          12.50945978584655,
          44.18077544196972,
          35.03727873888465,
          53.9242364685992,
          28.293418325385062,
          32.141139846970106,
          23.24586287296498,
          27.465913988169937,
          13.391109917547222,
          35.59982130390134,
          81.32045079803878,
          97.76776896148606,
          85.35794731706989,
          75.67098978001388,
          99.19405633826177,
          76.63154328200605,
          78.33927191407375,
          81.96165478884703,
          74.87058264170554,
          59.34263208586938,
          31.101856293922676
         ],
         "yaxis": "y2"
        },
        {
         "line": {
          "color": "rgba (255, 127, 14, 1)",
          "dash": "solid",
          "width": 1.5
         },
         "mode": "lines",
         "name": "D",
         "type": "scatter",
         "x": [
          "2021-12-14 00:00:00",
          "2021-12-15 00:00:00",
          "2021-12-16 00:00:00",
          "2021-12-17 00:00:00",
          "2021-12-20 00:00:00",
          "2021-12-21 00:00:00",
          "2021-12-22 00:00:00",
          "2021-12-23 00:00:00",
          "2021-12-27 00:00:00",
          "2021-12-28 00:00:00",
          "2021-12-29 00:00:00",
          "2021-12-30 00:00:00",
          "2021-12-31 00:00:00",
          "2022-01-03 00:00:00",
          "2022-01-04 00:00:00",
          "2022-01-05 00:00:00",
          "2022-01-06 00:00:00",
          "2022-01-07 00:00:00",
          "2022-01-10 00:00:00",
          "2022-01-11 00:00:00",
          "2022-01-12 00:00:00",
          "2022-01-13 00:00:00",
          "2022-01-14 00:00:00",
          "2022-01-18 00:00:00",
          "2022-01-19 00:00:00",
          "2022-01-20 00:00:00",
          "2022-01-21 00:00:00",
          "2022-01-24 00:00:00",
          "2022-01-25 00:00:00",
          "2022-01-26 00:00:00",
          "2022-01-27 00:00:00",
          "2022-01-28 00:00:00",
          "2022-01-31 00:00:00",
          "2022-02-01 00:00:00",
          "2022-02-02 00:00:00",
          "2022-02-03 00:00:00",
          "2022-02-04 00:00:00",
          "2022-02-07 00:00:00",
          "2022-02-08 00:00:00",
          "2022-02-09 00:00:00",
          "2022-02-10 00:00:00",
          "2022-02-11 00:00:00",
          "2022-02-14 00:00:00",
          "2022-02-15 00:00:00",
          "2022-02-16 00:00:00",
          "2022-02-17 00:00:00",
          "2022-02-18 00:00:00",
          "2022-02-22 00:00:00",
          "2022-02-23 00:00:00",
          "2022-02-24 00:00:00",
          "2022-02-25 00:00:00",
          "2022-02-28 00:00:00",
          "2022-03-01 00:00:00",
          "2022-03-02 00:00:00",
          "2022-03-03 00:00:00",
          "2022-03-04 00:00:00",
          "2022-03-07 00:00:00",
          "2022-03-08 00:00:00",
          "2022-03-09 00:00:00",
          "2022-03-10 00:00:00",
          "2022-03-11 00:00:00",
          "2022-03-14 00:00:00",
          "2022-03-15 00:00:00",
          "2022-03-16 00:00:00",
          "2022-03-17 00:00:00",
          "2022-03-18 00:00:00",
          "2022-03-21 00:00:00",
          "2022-03-22 00:00:00",
          "2022-03-23 00:00:00",
          "2022-03-24 00:00:00",
          "2022-03-25 00:00:00",
          "2022-03-28 00:00:00",
          "2022-03-29 00:00:00",
          "2022-03-30 00:00:00",
          "2022-03-31 00:00:00",
          "2022-04-01 00:00:00",
          "2022-04-04 00:00:00",
          "2022-04-05 00:00:00",
          "2022-04-06 00:00:00",
          "2022-04-07 00:00:00",
          "2022-04-08 00:00:00",
          "2022-04-11 00:00:00",
          "2022-04-12 00:00:00",
          "2022-04-13 00:00:00",
          "2022-04-14 00:00:00",
          "2022-04-18 00:00:00",
          "2022-04-19 00:00:00",
          "2022-04-20 00:00:00",
          "2022-04-21 00:00:00",
          "2022-04-22 00:00:00",
          "2022-04-25 00:00:00",
          "2022-04-26 00:00:00",
          "2022-04-27 00:00:00",
          "2022-04-28 00:00:00",
          "2022-04-29 00:00:00",
          "2022-05-02 00:00:00",
          "2022-05-03 00:00:00",
          "2022-05-04 00:00:00",
          "2022-05-05 00:00:00",
          "2022-05-06 00:00:00",
          "2022-05-09 00:00:00",
          "2022-05-10 00:00:00",
          "2022-05-11 00:00:00",
          "2022-05-12 00:00:00",
          "2022-05-13 00:00:00",
          "2022-05-16 00:00:00",
          "2022-05-17 00:00:00",
          "2022-05-18 00:00:00",
          "2022-05-19 00:00:00",
          "2022-05-20 00:00:00",
          "2022-05-23 00:00:00",
          "2022-05-24 00:00:00",
          "2022-05-25 00:00:00",
          "2022-05-26 00:00:00",
          "2022-05-27 00:00:00",
          "2022-05-31 00:00:00",
          "2022-06-01 00:00:00",
          "2022-06-02 00:00:00",
          "2022-06-03 00:00:00",
          "2022-06-06 00:00:00",
          "2022-06-07 00:00:00",
          "2022-06-08 00:00:00",
          "2022-06-09 00:00:00",
          "2022-06-10 00:00:00"
         ],
         "xaxis": "x2",
         "y": [
          17.35398833001182,
          23.814054067712345,
          29.20979507690643,
          26.339677215223603,
          12.100233891252351,
          18.002115441011785,
          29.151787452968005,
          41.70393461063471,
          53.51719452969502,
          59.92413948977869,
          63.05405823088169,
          58.59943036796366,
          56.05048774641805,
          60.92381660760035,
          58.56707065109067,
          44.17987758931654,
          29.182381619435386,
          13.587658937306875,
          20.2486588514568,
          24.310678334652057,
          36.65282301088243,
          31.818224104778125,
          26.69061486727767,
          14.586219105749926,
          9.219834407476068,
          1.986288870877278,
          0.8043505023622398,
          9.384321703572487,
          14.648396224461115,
          22.302390693012196,
          18.221472649405502,
          21.046726036094196,
          28.457068037258352,
          40.10436506522323,
          50.77385371711202,
          51.371753699034734,
          55.02945193050774,
          58.534338678063506,
          70.88902403544603,
          84.21388265383258,
          88.834397122671,
          76.01681290125062,
          60.39447352366204,
          63.92186436455635,
          79.08748689693012,
          73.99101559422719,
          47.908571187960355,
          20.32303813872268,
          8.439300679867834,
          19.530263672324608,
          34.28781089354262,
          52.98210899788915,
          51.485862887173305,
          51.85647317293614,
          49.11229523264061,
          46.826250125429056,
          31.140941816274438,
          19.461937062268216,
          22.82268362864514,
          35.54340449894162,
          42.713347923713286,
          33.00732562504323,
          36.85317989665321,
          56.74105406641407,
          83.82038390094863,
          97.22326642405999,
          96.49740890499181,
          93.50234608227242,
          86.04391925925965,
          87.45114445948434,
          88.1867197502569,
          95.6586856796702,
          95.15604875642306,
          92.65993752863142,
          86.20059590339929,
          77.67582461528741,
          73.88799635772615,
          61.04182528613405,
          40.19018455577428,
          20.46516407773934,
          7.4037899720521905,
          5.868755892373357,
          2.395585500172706,
          6.085681361601338,
          5.318730384457289,
          7.336375671613932,
          8.358946511759784,
          9.824024396798306,
          7.648878802434342,
          2.685963265983347,
          4.08346730242355,
          3.868496045498732,
          4.451139860251832,
          10.00512723751183,
          11.311924995465121,
          19.887708483262074,
          20.799421614833168,
          34.07199185926052,
          29.054410052608333,
          24.18931071677177,
          9.717890196332403,
          10.109960869631326,
          5.756733894516818,
          9.245300904820011,
          19.39432377896273,
          30.575837988900318,
          44.380763549817864,
          39.08497784428965,
          38.119598213651464,
          27.89347368177339,
          27.617638902701685,
          21.367628926227393,
          25.485615069872846,
          43.43712733982912,
          71.56268035447539,
          88.14872235886492,
          86.26556868618995,
          86.74099781178184,
          83.83219646676058,
          84.72162384478052,
          78.97748999497561,
          78.39050311487544,
          72.05828983880733,
          55.10502367383254
         ],
         "yaxis": "y2"
        }
       ],
       "layout": {
        "annotations": [
         {
          "font": {
           "color": "#000000",
           "size": 12
          },
          "showarrow": false,
          "text": "NVDA price, 6M",
          "x": 0.5003839066339067,
          "xanchor": "center",
          "xref": "paper",
          "y": 1.016791604197901,
          "yanchor": "bottom",
          "yref": "paper"
         },
         {
          "font": {
           "color": "#000000",
           "size": 12
          },
          "showarrow": false,
          "text": "NVDA Stochastic Oscillator (14-day period), 6M",
          "x": 0.5003839066339067,
          "xanchor": "center",
          "xref": "paper",
          "y": 0.4952773613193403,
          "yanchor": "bottom",
          "yref": "paper"
         },
         {
          "align": "left",
          "font": {
           "color": "#000000",
           "size": 10
          },
          "opacity": 1,
          "showarrow": false,
          "text": "K",
          "x": 0.0466468342183485,
          "xanchor": "left",
          "xref": "paper",
          "y": 0.45321808864108337,
          "yanchor": "bottom",
          "yref": "paper"
         },
         {
          "align": "left",
          "font": {
           "color": "#000000",
           "size": 10
          },
          "opacity": 1,
          "showarrow": false,
          "text": "D",
          "x": 0.0466468342183485,
          "xanchor": "left",
          "xref": "paper",
          "y": 0.43065851344521416,
          "yanchor": "bottom",
          "yref": "paper"
         },
         {
          "align": "left",
          "font": {
           "color": "#000000",
           "size": 10
          },
          "opacity": 1,
          "showarrow": false,
          "text": "Overbought",
          "x": 0.0466468342183485,
          "xanchor": "left",
          "xref": "paper",
          "y": 0.4080989382493449,
          "yanchor": "bottom",
          "yref": "paper"
         },
         {
          "align": "left",
          "font": {
           "color": "#000000",
           "size": 10
          },
          "opacity": 1,
          "showarrow": false,
          "text": "Oversold",
          "x": 0.0466468342183485,
          "xanchor": "left",
          "xref": "paper",
          "y": 0.3855393630534757,
          "yanchor": "bottom",
          "yref": "paper"
         }
        ],
        "autosize": false,
        "height": 720,
        "hovermode": "closest",
        "margin": {
         "b": 27,
         "l": 36,
         "pad": 0,
         "r": 14,
         "t": 26
        },
        "shapes": [
         {
          "line": {
           "color": "rgba (31, 119, 180, 1)",
           "dash": "solid",
           "width": 4
          },
          "type": "line",
          "x0": 0.011073175232998063,
          "x1": 0.03568023130632709,
          "xref": "paper",
          "y0": 0.9774870099196976,
          "y1": 0.9774870099196976,
          "yref": "paper"
         },
         {
          "line": {
           "color": "rgba (255, 127, 14, 1)",
           "dash": "solid",
           "width": 4
          },
          "type": "line",
          "x0": 0.011073175232998063,
          "x1": 0.03568023130632709,
          "xref": "paper",
          "y0": 0.9302503542749173,
          "y1": 0.9302503542749173,
          "yref": "paper"
         },
         {
          "line": {
           "color": "rgba (214, 39, 40, 1)",
           "dash": "solid",
           "width": 4
          },
          "type": "line",
          "x0": 0.011073175232998063,
          "x1": 0.03568023130632709,
          "xref": "paper",
          "y0": 0.883013698630137,
          "y1": 0.883013698630137,
          "yref": "paper"
         },
         {
          "line": {
           "color": "rgba (44, 160, 44, 1)",
           "dash": "solid",
           "width": 4
          },
          "type": "line",
          "x0": 0.011073175232998063,
          "x1": 0.03568023130632709,
          "xref": "paper",
          "y0": 0.8357770429853566,
          "y1": 0.8357770429853566,
          "yref": "paper"
         }
        ],
        "showlegend": false,
        "template": {
         "data": {
          "bar": [
           {
            "error_x": {
             "color": "#2a3f5f"
            },
            "error_y": {
             "color": "#2a3f5f"
            },
            "marker": {
             "line": {
              "color": "#E5ECF6",
              "width": 0.5
             },
             "pattern": {
              "fillmode": "overlay",
              "size": 10,
              "solidity": 0.2
             }
            },
            "type": "bar"
           }
          ],
          "barpolar": [
           {
            "marker": {
             "line": {
              "color": "#E5ECF6",
              "width": 0.5
             },
             "pattern": {
              "fillmode": "overlay",
              "size": 10,
              "solidity": 0.2
             }
            },
            "type": "barpolar"
           }
          ],
          "carpet": [
           {
            "aaxis": {
             "endlinecolor": "#2a3f5f",
             "gridcolor": "white",
             "linecolor": "white",
             "minorgridcolor": "white",
             "startlinecolor": "#2a3f5f"
            },
            "baxis": {
             "endlinecolor": "#2a3f5f",
             "gridcolor": "white",
             "linecolor": "white",
             "minorgridcolor": "white",
             "startlinecolor": "#2a3f5f"
            },
            "type": "carpet"
           }
          ],
          "choropleth": [
           {
            "colorbar": {
             "outlinewidth": 0,
             "ticks": ""
            },
            "type": "choropleth"
           }
          ],
          "contour": [
           {
            "colorbar": {
             "outlinewidth": 0,
             "ticks": ""
            },
            "colorscale": [
             [
              0,
              "#0d0887"
             ],
             [
              0.1111111111111111,
              "#46039f"
             ],
             [
              0.2222222222222222,
              "#7201a8"
             ],
             [
              0.3333333333333333,
              "#9c179e"
             ],
             [
              0.4444444444444444,
              "#bd3786"
             ],
             [
              0.5555555555555556,
              "#d8576b"
             ],
             [
              0.6666666666666666,
              "#ed7953"
             ],
             [
              0.7777777777777778,
              "#fb9f3a"
             ],
             [
              0.8888888888888888,
              "#fdca26"
             ],
             [
              1,
              "#f0f921"
             ]
            ],
            "type": "contour"
           }
          ],
          "contourcarpet": [
           {
            "colorbar": {
             "outlinewidth": 0,
             "ticks": ""
            },
            "type": "contourcarpet"
           }
          ],
          "heatmap": [
           {
            "colorbar": {
             "outlinewidth": 0,
             "ticks": ""
            },
            "colorscale": [
             [
              0,
              "#0d0887"
             ],
             [
              0.1111111111111111,
              "#46039f"
             ],
             [
              0.2222222222222222,
              "#7201a8"
             ],
             [
              0.3333333333333333,
              "#9c179e"
             ],
             [
              0.4444444444444444,
              "#bd3786"
             ],
             [
              0.5555555555555556,
              "#d8576b"
             ],
             [
              0.6666666666666666,
              "#ed7953"
             ],
             [
              0.7777777777777778,
              "#fb9f3a"
             ],
             [
              0.8888888888888888,
              "#fdca26"
             ],
             [
              1,
              "#f0f921"
             ]
            ],
            "type": "heatmap"
           }
          ],
          "heatmapgl": [
           {
            "colorbar": {
             "outlinewidth": 0,
             "ticks": ""
            },
            "colorscale": [
             [
              0,
              "#0d0887"
             ],
             [
              0.1111111111111111,
              "#46039f"
             ],
             [
              0.2222222222222222,
              "#7201a8"
             ],
             [
              0.3333333333333333,
              "#9c179e"
             ],
             [
              0.4444444444444444,
              "#bd3786"
             ],
             [
              0.5555555555555556,
              "#d8576b"
             ],
             [
              0.6666666666666666,
              "#ed7953"
             ],
             [
              0.7777777777777778,
              "#fb9f3a"
             ],
             [
              0.8888888888888888,
              "#fdca26"
             ],
             [
              1,
              "#f0f921"
             ]
            ],
            "type": "heatmapgl"
           }
          ],
          "histogram": [
           {
            "marker": {
             "pattern": {
              "fillmode": "overlay",
              "size": 10,
              "solidity": 0.2
             }
            },
            "type": "histogram"
           }
          ],
          "histogram2d": [
           {
            "colorbar": {
             "outlinewidth": 0,
             "ticks": ""
            },
            "colorscale": [
             [
              0,
              "#0d0887"
             ],
             [
              0.1111111111111111,
              "#46039f"
             ],
             [
              0.2222222222222222,
              "#7201a8"
             ],
             [
              0.3333333333333333,
              "#9c179e"
             ],
             [
              0.4444444444444444,
              "#bd3786"
             ],
             [
              0.5555555555555556,
              "#d8576b"
             ],
             [
              0.6666666666666666,
              "#ed7953"
             ],
             [
              0.7777777777777778,
              "#fb9f3a"
             ],
             [
              0.8888888888888888,
              "#fdca26"
             ],
             [
              1,
              "#f0f921"
             ]
            ],
            "type": "histogram2d"
           }
          ],
          "histogram2dcontour": [
           {
            "colorbar": {
             "outlinewidth": 0,
             "ticks": ""
            },
            "colorscale": [
             [
              0,
              "#0d0887"
             ],
             [
              0.1111111111111111,
              "#46039f"
             ],
             [
              0.2222222222222222,
              "#7201a8"
             ],
             [
              0.3333333333333333,
              "#9c179e"
             ],
             [
              0.4444444444444444,
              "#bd3786"
             ],
             [
              0.5555555555555556,
              "#d8576b"
             ],
             [
              0.6666666666666666,
              "#ed7953"
             ],
             [
              0.7777777777777778,
              "#fb9f3a"
             ],
             [
              0.8888888888888888,
              "#fdca26"
             ],
             [
              1,
              "#f0f921"
             ]
            ],
            "type": "histogram2dcontour"
           }
          ],
          "mesh3d": [
           {
            "colorbar": {
             "outlinewidth": 0,
             "ticks": ""
            },
            "type": "mesh3d"
           }
          ],
          "parcoords": [
           {
            "line": {
             "colorbar": {
              "outlinewidth": 0,
              "ticks": ""
             }
            },
            "type": "parcoords"
           }
          ],
          "pie": [
           {
            "automargin": true,
            "type": "pie"
           }
          ],
          "scatter": [
           {
            "fillpattern": {
             "fillmode": "overlay",
             "size": 10,
             "solidity": 0.2
            },
            "type": "scatter"
           }
          ],
          "scatter3d": [
           {
            "line": {
             "colorbar": {
              "outlinewidth": 0,
              "ticks": ""
             }
            },
            "marker": {
             "colorbar": {
              "outlinewidth": 0,
              "ticks": ""
             }
            },
            "type": "scatter3d"
           }
          ],
          "scattercarpet": [
           {
            "marker": {
             "colorbar": {
              "outlinewidth": 0,
              "ticks": ""
             }
            },
            "type": "scattercarpet"
           }
          ],
          "scattergeo": [
           {
            "marker": {
             "colorbar": {
              "outlinewidth": 0,
              "ticks": ""
             }
            },
            "type": "scattergeo"
           }
          ],
          "scattergl": [
           {
            "marker": {
             "colorbar": {
              "outlinewidth": 0,
              "ticks": ""
             }
            },
            "type": "scattergl"
           }
          ],
          "scattermapbox": [
           {
            "marker": {
             "colorbar": {
              "outlinewidth": 0,
              "ticks": ""
             }
            },
            "type": "scattermapbox"
           }
          ],
          "scatterpolar": [
           {
            "marker": {
             "colorbar": {
              "outlinewidth": 0,
              "ticks": ""
             }
            },
            "type": "scatterpolar"
           }
          ],
          "scatterpolargl": [
           {
            "marker": {
             "colorbar": {
              "outlinewidth": 0,
              "ticks": ""
             }
            },
            "type": "scatterpolargl"
           }
          ],
          "scatterternary": [
           {
            "marker": {
             "colorbar": {
              "outlinewidth": 0,
              "ticks": ""
             }
            },
            "type": "scatterternary"
           }
          ],
          "surface": [
           {
            "colorbar": {
             "outlinewidth": 0,
             "ticks": ""
            },
            "colorscale": [
             [
              0,
              "#0d0887"
             ],
             [
              0.1111111111111111,
              "#46039f"
             ],
             [
              0.2222222222222222,
              "#7201a8"
             ],
             [
              0.3333333333333333,
              "#9c179e"
             ],
             [
              0.4444444444444444,
              "#bd3786"
             ],
             [
              0.5555555555555556,
              "#d8576b"
             ],
             [
              0.6666666666666666,
              "#ed7953"
             ],
             [
              0.7777777777777778,
              "#fb9f3a"
             ],
             [
              0.8888888888888888,
              "#fdca26"
             ],
             [
              1,
              "#f0f921"
             ]
            ],
            "type": "surface"
           }
          ],
          "table": [
           {
            "cells": {
             "fill": {
              "color": "#EBF0F8"
             },
             "line": {
              "color": "white"
             }
            },
            "header": {
             "fill": {
              "color": "#C8D4E3"
             },
             "line": {
              "color": "white"
             }
            },
            "type": "table"
           }
          ]
         },
         "layout": {
          "annotationdefaults": {
           "arrowcolor": "#2a3f5f",
           "arrowhead": 0,
           "arrowwidth": 1
          },
          "autotypenumbers": "strict",
          "coloraxis": {
           "colorbar": {
            "outlinewidth": 0,
            "ticks": ""
           }
          },
          "colorscale": {
           "diverging": [
            [
             0,
             "#8e0152"
            ],
            [
             0.1,
             "#c51b7d"
            ],
            [
             0.2,
             "#de77ae"
            ],
            [
             0.3,
             "#f1b6da"
            ],
            [
             0.4,
             "#fde0ef"
            ],
            [
             0.5,
             "#f7f7f7"
            ],
            [
             0.6,
             "#e6f5d0"
            ],
            [
             0.7,
             "#b8e186"
            ],
            [
             0.8,
             "#7fbc41"
            ],
            [
             0.9,
             "#4d9221"
            ],
            [
             1,
             "#276419"
            ]
           ],
           "sequential": [
            [
             0,
             "#0d0887"
            ],
            [
             0.1111111111111111,
             "#46039f"
            ],
            [
             0.2222222222222222,
             "#7201a8"
            ],
            [
             0.3333333333333333,
             "#9c179e"
            ],
            [
             0.4444444444444444,
             "#bd3786"
            ],
            [
             0.5555555555555556,
             "#d8576b"
            ],
            [
             0.6666666666666666,
             "#ed7953"
            ],
            [
             0.7777777777777778,
             "#fb9f3a"
            ],
            [
             0.8888888888888888,
             "#fdca26"
            ],
            [
             1,
             "#f0f921"
            ]
           ],
           "sequentialminus": [
            [
             0,
             "#0d0887"
            ],
            [
             0.1111111111111111,
             "#46039f"
            ],
            [
             0.2222222222222222,
             "#7201a8"
            ],
            [
             0.3333333333333333,
             "#9c179e"
            ],
            [
             0.4444444444444444,
             "#bd3786"
            ],
            [
             0.5555555555555556,
             "#d8576b"
            ],
            [
             0.6666666666666666,
             "#ed7953"
            ],
            [
             0.7777777777777778,
             "#fb9f3a"
            ],
            [
             0.8888888888888888,
             "#fdca26"
            ],
            [
             1,
             "#f0f921"
            ]
           ]
          },
          "colorway": [
           "#636efa",
           "#EF553B",
           "#00cc96",
           "#ab63fa",
           "#FFA15A",
           "#19d3f3",
           "#FF6692",
           "#B6E880",
           "#FF97FF",
           "#FECB52"
          ],
          "font": {
           "color": "#2a3f5f"
          },
          "geo": {
           "bgcolor": "white",
           "lakecolor": "white",
           "landcolor": "#E5ECF6",
           "showlakes": true,
           "showland": true,
           "subunitcolor": "white"
          },
          "hoverlabel": {
           "align": "left"
          },
          "hovermode": "closest",
          "mapbox": {
           "style": "light"
          },
          "paper_bgcolor": "white",
          "plot_bgcolor": "#E5ECF6",
          "polar": {
           "angularaxis": {
            "gridcolor": "white",
            "linecolor": "white",
            "ticks": ""
           },
           "bgcolor": "#E5ECF6",
           "radialaxis": {
            "gridcolor": "white",
            "linecolor": "white",
            "ticks": ""
           }
          },
          "scene": {
           "xaxis": {
            "backgroundcolor": "#E5ECF6",
            "gridcolor": "white",
            "gridwidth": 2,
            "linecolor": "white",
            "showbackground": true,
            "ticks": "",
            "zerolinecolor": "white"
           },
           "yaxis": {
            "backgroundcolor": "#E5ECF6",
            "gridcolor": "white",
            "gridwidth": 2,
            "linecolor": "white",
            "showbackground": true,
            "ticks": "",
            "zerolinecolor": "white"
           },
           "zaxis": {
            "backgroundcolor": "#E5ECF6",
            "gridcolor": "white",
            "gridwidth": 2,
            "linecolor": "white",
            "showbackground": true,
            "ticks": "",
            "zerolinecolor": "white"
           }
          },
          "shapedefaults": {
           "line": {
            "color": "#2a3f5f"
           }
          },
          "ternary": {
           "aaxis": {
            "gridcolor": "white",
            "linecolor": "white",
            "ticks": ""
           },
           "baxis": {
            "gridcolor": "white",
            "linecolor": "white",
            "ticks": ""
           },
           "bgcolor": "#E5ECF6",
           "caxis": {
            "gridcolor": "white",
            "linecolor": "white",
            "ticks": ""
           }
          },
          "title": {
           "x": 0.05
          },
          "xaxis": {
           "automargin": true,
           "gridcolor": "white",
           "linecolor": "white",
           "ticks": "",
           "title": {
            "standoff": 15
           },
           "zerolinecolor": "white",
           "zerolinewidth": 2
          },
          "yaxis": {
           "automargin": true,
           "gridcolor": "white",
           "linecolor": "white",
           "ticks": "",
           "title": {
            "standoff": 15
           },
           "zerolinecolor": "white",
           "zerolinewidth": 2
          }
         }
        },
        "width": 864,
        "xaxis": {
         "anchor": "y",
         "domain": [
          0,
          1
         ],
         "mirror": "ticks",
         "nticks": 6,
         "range": [
          "2021-12-05 02:24:00",
          "2022-06-18 21:36:00"
         ],
         "showgrid": false,
         "showline": true,
         "side": "top",
         "ticks": "inside",
         "type": "date",
         "zeroline": false
        },
        "xaxis2": {
         "anchor": "y2",
         "domain": [
          0,
          1
         ],
         "mirror": "ticks",
         "nticks": 6,
         "range": [
          "2021-12-05 02:24:00",
          "2022-06-18 21:36:00"
         ],
         "showgrid": false,
         "showline": true,
         "side": "bottom",
         "tickfont": {
          "size": 10
         },
         "ticks": "inside",
         "type": "date",
         "zeroline": false
        },
        "yaxis": {
         "anchor": "x",
         "domain": [
          0.5227682596934176,
          1
         ],
         "mirror": "ticks",
         "nticks": 10,
         "range": [
          154.14449234008788,
          316.8455131530762
         ],
         "showgrid": false,
         "showline": true,
         "side": "left",
         "tickfont": {
          "size": 10
         },
         "ticks": "inside",
         "type": "linear",
         "zeroline": false
        },
        "yaxis2": {
         "anchor": "x2",
         "domain": [
          0,
          0.47723174030658255
         ],
         "mirror": "ticks",
         "nticks": 8,
         "range": [
          -10,
          110
         ],
         "showgrid": false,
         "showline": true,
         "side": "left",
         "tickfont": {
          "size": 10
         },
         "ticks": "inside",
         "type": "linear",
         "zeroline": false
        }
       }
      },
      "image/png": "[encoded data removed]",
      "text/html": [
       "<div>                            <div id=\"667fa7b6-866d-47c3-b1c1-83ef87a17364\" class=\"plotly-graph-div\" style=\"height:720px; width:864px;\"></div>            <script type=\"text/javascript\">                require([\"plotly\"], function(Plotly) {                    window.PLOTLYENV=window.PLOTLYENV || {};                                    if (document.getElementById(\"667fa7b6-866d-47c3-b1c1-83ef87a17364\")) {                    Plotly.newPlot(                        \"667fa7b6-866d-47c3-b1c1-83ef87a17364\",                        [{\"line\":{\"color\":\"rgba (31, 119, 180, 1)\",\"dash\":\"solid\",\"width\":1.5},\"mode\":\"lines\",\"name\":\"Close\",\"x\":[\"2021-12-14 00:00:00\",\"2021-12-15 00:00:00\",\"2021-12-16 00:00:00\",\"2021-12-17 00:00:00\",\"2021-12-20 00:00:00\",\"2021-12-21 00:00:00\",\"2021-12-22 00:00:00\",\"2021-12-23 00:00:00\",\"2021-12-27 00:00:00\",\"2021-12-28 00:00:00\",\"2021-12-29 00:00:00\",\"2021-12-30 00:00:00\",\"2021-12-31 00:00:00\",\"2022-01-03 00:00:00\",\"2022-01-04 00:00:00\",\"2022-01-05 00:00:00\",\"2022-01-06 00:00:00\",\"2022-01-07 00:00:00\",\"2022-01-10 00:00:00\",\"2022-01-11 00:00:00\",\"2022-01-12 00:00:00\",\"2022-01-13 00:00:00\",\"2022-01-14 00:00:00\",\"2022-01-18 00:00:00\",\"2022-01-19 00:00:00\",\"2022-01-20 00:00:00\",\"2022-01-21 00:00:00\",\"2022-01-24 00:00:00\",\"2022-01-25 00:00:00\",\"2022-01-26 00:00:00\",\"2022-01-27 00:00:00\",\"2022-01-28 00:00:00\",\"2022-01-31 00:00:00\",\"2022-02-01 00:00:00\",\"2022-02-02 00:00:00\",\"2022-02-03 00:00:00\",\"2022-02-04 00:00:00\",\"2022-02-07 00:00:00\",\"2022-02-08 00:00:00\",\"2022-02-09 00:00:00\",\"2022-02-10 00:00:00\",\"2022-02-11 00:00:00\",\"2022-02-14 00:00:00\",\"2022-02-15 00:00:00\",\"2022-02-16 00:00:00\",\"2022-02-17 00:00:00\",\"2022-02-18 00:00:00\",\"2022-02-22 00:00:00\",\"2022-02-23 00:00:00\",\"2022-02-24 00:00:00\",\"2022-02-25 00:00:00\",\"2022-02-28 00:00:00\",\"2022-03-01 00:00:00\",\"2022-03-02 00:00:00\",\"2022-03-03 00:00:00\",\"2022-03-04 00:00:00\",\"2022-03-07 00:00:00\",\"2022-03-08 00:00:00\",\"2022-03-09 00:00:00\",\"2022-03-10 00:00:00\",\"2022-03-11 00:00:00\",\"2022-03-14 00:00:00\",\"2022-03-15 00:00:00\",\"2022-03-16 00:00:00\",\"2022-03-17 00:00:00\",\"2022-03-18 00:00:00\",\"2022-03-21 00:00:00\",\"2022-03-22 00:00:00\",\"2022-03-23 00:00:00\",\"2022-03-24 00:00:00\",\"2022-03-25 00:00:00\",\"2022-03-28 00:00:00\",\"2022-03-29 00:00:00\",\"2022-03-30 00:00:00\",\"2022-03-31 00:00:00\",\"2022-04-01 00:00:00\",\"2022-04-04 00:00:00\",\"2022-04-05 00:00:00\",\"2022-04-06 00:00:00\",\"2022-04-07 00:00:00\",\"2022-04-08 00:00:00\",\"2022-04-11 00:00:00\",\"2022-04-12 00:00:00\",\"2022-04-13 00:00:00\",\"2022-04-14 00:00:00\",\"2022-04-18 00:00:00\",\"2022-04-19 00:00:00\",\"2022-04-20 00:00:00\",\"2022-04-21 00:00:00\",\"2022-04-22 00:00:00\",\"2022-04-25 00:00:00\",\"2022-04-26 00:00:00\",\"2022-04-27 00:00:00\",\"2022-04-28 00:00:00\",\"2022-04-29 00:00:00\",\"2022-05-02 00:00:00\",\"2022-05-03 00:00:00\",\"2022-05-04 00:00:00\",\"2022-05-05 00:00:00\",\"2022-05-06 00:00:00\",\"2022-05-09 00:00:00\",\"2022-05-10 00:00:00\",\"2022-05-11 00:00:00\",\"2022-05-12 00:00:00\",\"2022-05-13 00:00:00\",\"2022-05-16 00:00:00\",\"2022-05-17 00:00:00\",\"2022-05-18 00:00:00\",\"2022-05-19 00:00:00\",\"2022-05-20 00:00:00\",\"2022-05-23 00:00:00\",\"2022-05-24 00:00:00\",\"2022-05-25 00:00:00\",\"2022-05-26 00:00:00\",\"2022-05-27 00:00:00\",\"2022-05-31 00:00:00\",\"2022-06-01 00:00:00\",\"2022-06-02 00:00:00\",\"2022-06-03 00:00:00\",\"2022-06-06 00:00:00\",\"2022-06-07 00:00:00\",\"2022-06-08 00:00:00\",\"2022-06-09 00:00:00\",\"2022-06-10 00:00:00\"],\"xaxis\":\"x\",\"y\":[283.3699951171875,304.5899963378906,283.8699951171875,278.010009765625,277.19000244140625,290.75,294.0,296.3999938964844,309.45001220703125,303.2200012207031,300.010009765625,295.8599853515625,294.1099853515625,301.2099914550781,292.8999938964844,276.0400085449219,281.7799987792969,272.4700012207031,274.0,278.1700134277344,279.989990234375,265.75,269.4200134277344,259.0299987792969,250.6699981689453,241.5,233.74000549316406,233.72000122070312,223.24000549316406,227.72000122070312,219.44000244140625,228.39999389648438,244.86000061035156,246.3800048828125,252.4199981689453,239.47999572753906,243.19000244140625,247.27999877929688,251.0800018310547,267.04998779296875,258.239990234375,239.49000549316406,242.6699981689453,264.95001220703125,265.1099853515625,245.07000732421875,236.4199981689453,233.89999389648438,223.8699951171875,237.47999572753906,241.57000732421875,243.85000610351562,234.77000427246094,242.1999969482422,237.13999938964844,229.36000061035156,213.52000427246094,215.13999938964844,230.13999938964844,226.5800018310547,221.0,213.3000030517578,229.72999572753906,244.9600067138672,247.66000366210938,264.5299987792969,267.3399963378906,265.239990234375,256.3399963378906,281.5,276.9200134277344,282.19000244140625,286.55999755859375,276.8999938964844,272.8599853515625,267.1199951171875,273.6000061035156,259.30999755859375,244.07000732421875,242.0800018310547,231.19000244140625,219.1699981689453,215.0399932861328,222.02999877929688,212.5800018310547,217.8300018310547,221.97999572753906,214.82000732421875,201.8300018310547,195.14999389648438,199.02000427246094,187.8800048828125,184.14999389648438,197.82000732421875,185.47000122070312,195.3300018310547,196.02000427246094,203.33999633789062,188.44000244140625,186.75,169.5,175.9499969482422,166.3000030517578,161.75,177.05999755859375,172.63999938964844,181.77000427246094,169.3800048828125,171.24000549316406,166.94000244140625,168.97999572753906,161.5399932861328,169.75,178.50999450683594,188.11000061035156,186.72000122070312,183.1999969482422,195.9199981689453,187.1999969482422,187.86000061035156,189.25999450683594,186.47999572753906,180.47999572753906,169.74000549316406],\"yaxis\":\"y\",\"type\":\"scatter\"},{\"line\":{\"color\":\"rgba (31, 119, 180, 1)\",\"dash\":\"solid\",\"width\":1.5},\"mode\":\"lines\",\"name\":\"K\",\"x\":[\"2021-12-14 00:00:00\",\"2021-12-15 00:00:00\",\"2021-12-16 00:00:00\",\"2021-12-17 00:00:00\",\"2021-12-20 00:00:00\",\"2021-12-21 00:00:00\",\"2021-12-22 00:00:00\",\"2021-12-23 00:00:00\",\"2021-12-27 00:00:00\",\"2021-12-28 00:00:00\",\"2021-12-29 00:00:00\",\"2021-12-30 00:00:00\",\"2021-12-31 00:00:00\",\"2022-01-03 00:00:00\",\"2022-01-04 00:00:00\",\"2022-01-05 00:00:00\",\"2022-01-06 00:00:00\",\"2022-01-07 00:00:00\",\"2022-01-10 00:00:00\",\"2022-01-11 00:00:00\",\"2022-01-12 00:00:00\",\"2022-01-13 00:00:00\",\"2022-01-14 00:00:00\",\"2022-01-18 00:00:00\",\"2022-01-19 00:00:00\",\"2022-01-20 00:00:00\",\"2022-01-21 00:00:00\",\"2022-01-24 00:00:00\",\"2022-01-25 00:00:00\",\"2022-01-26 00:00:00\",\"2022-01-27 00:00:00\",\"2022-01-28 00:00:00\",\"2022-01-31 00:00:00\",\"2022-02-01 00:00:00\",\"2022-02-02 00:00:00\",\"2022-02-03 00:00:00\",\"2022-02-04 00:00:00\",\"2022-02-07 00:00:00\",\"2022-02-08 00:00:00\",\"2022-02-09 00:00:00\",\"2022-02-10 00:00:00\",\"2022-02-11 00:00:00\",\"2022-02-14 00:00:00\",\"2022-02-15 00:00:00\",\"2022-02-16 00:00:00\",\"2022-02-17 00:00:00\",\"2022-02-18 00:00:00\",\"2022-02-22 00:00:00\",\"2022-02-23 00:00:00\",\"2022-02-24 00:00:00\",\"2022-02-25 00:00:00\",\"2022-02-28 00:00:00\",\"2022-03-01 00:00:00\",\"2022-03-02 00:00:00\",\"2022-03-03 00:00:00\",\"2022-03-04 00:00:00\",\"2022-03-07 00:00:00\",\"2022-03-08 00:00:00\",\"2022-03-09 00:00:00\",\"2022-03-10 00:00:00\",\"2022-03-11 00:00:00\",\"2022-03-14 00:00:00\",\"2022-03-15 00:00:00\",\"2022-03-16 00:00:00\",\"2022-03-17 00:00:00\",\"2022-03-18 00:00:00\",\"2022-03-21 00:00:00\",\"2022-03-22 00:00:00\",\"2022-03-23 00:00:00\",\"2022-03-24 00:00:00\",\"2022-03-25 00:00:00\",\"2022-03-28 00:00:00\",\"2022-03-29 00:00:00\",\"2022-03-30 00:00:00\",\"2022-03-31 00:00:00\",\"2022-04-01 00:00:00\",\"2022-04-04 00:00:00\",\"2022-04-05 00:00:00\",\"2022-04-06 00:00:00\",\"2022-04-07 00:00:00\",\"2022-04-08 00:00:00\",\"2022-04-11 00:00:00\",\"2022-04-12 00:00:00\",\"2022-04-13 00:00:00\",\"2022-04-14 00:00:00\",\"2022-04-18 00:00:00\",\"2022-04-19 00:00:00\",\"2022-04-20 00:00:00\",\"2022-04-21 00:00:00\",\"2022-04-22 00:00:00\",\"2022-04-25 00:00:00\",\"2022-04-26 00:00:00\",\"2022-04-27 00:00:00\",\"2022-04-28 00:00:00\",\"2022-04-29 00:00:00\",\"2022-05-02 00:00:00\",\"2022-05-03 00:00:00\",\"2022-05-04 00:00:00\",\"2022-05-05 00:00:00\",\"2022-05-06 00:00:00\",\"2022-05-09 00:00:00\",\"2022-05-10 00:00:00\",\"2022-05-11 00:00:00\",\"2022-05-12 00:00:00\",\"2022-05-13 00:00:00\",\"2022-05-16 00:00:00\",\"2022-05-17 00:00:00\",\"2022-05-18 00:00:00\",\"2022-05-19 00:00:00\",\"2022-05-20 00:00:00\",\"2022-05-23 00:00:00\",\"2022-05-24 00:00:00\",\"2022-05-25 00:00:00\",\"2022-05-26 00:00:00\",\"2022-05-27 00:00:00\",\"2022-05-31 00:00:00\",\"2022-06-01 00:00:00\",\"2022-06-02 00:00:00\",\"2022-06-03 00:00:00\",\"2022-06-06 00:00:00\",\"2022-06-07 00:00:00\",\"2022-06-08 00:00:00\",\"2022-06-09 00:00:00\",\"2022-06-10 00:00:00\"],\"xaxis\":\"x2\",\"y\":[17.464851790146813,51.88855387675295,18.27597956381948,8.85449820509833,9.170223904839201,35.98162421309779,42.30351424096699,46.826665377839305,71.42140397027872,61.524349121218,56.216421601148326,58.05752038152464,53.877521256581154,70.83640818469526,50.987282511995566,10.71594207125877,25.843920275051786,4.203114465610038,30.698941813708547,38.02997872463756,41.22954849430116,16.19514509539563,22.647151012136188,4.916361209717928,0.09599100057405854,0.9465144023398195,1.3705461041728129,25.835904604204803,16.738737965005697,24.332529509826053,13.59315047338473,25.21449812507177,46.56355551331852,48.53504155727936,57.22296408073815,48.35725545908666,59.508136251698375,67.73762432340546,85.42131153123424,99.48271210685806,81.59916772992068,46.96855886697311,52.615693974092316,92.1813402526036,92.4654264640944,37.32628006598354,13.934007033803105,9.708827316381369,1.6750676894190013,47.20689601117343,53.98146898003539,57.7579620024586,42.7181576790259,55.09329983732388,49.52542818157204,35.86002235739121,8.037374909860038,14.48841391955337,45.94226205652199,46.19953752074946,35.99824419386836,16.82419516051184,57.73710033557939,95.66186670315095,98.06218466411552,97.94574790491343,93.4842941459465,89.0769961959573,75.57046743587512,97.7059697466206,91.28372206827497,97.98636522411496,96.19805897687922,83.79538838490008,78.60834034841851,70.62374511254359,72.43190361221633,40.069827133642185,8.068822921464301,13.256842178111505,0.8857048165807344,3.4637206824278026,2.837331001509553,11.955992400866629,1.1628677509956542,8.890266862979484,15.023704921304187,5.558101406111219,2.364830079887588,0.1349583119512052,9.750613515431827,1.7199163091131329,1.8828897562105067,26.412575647211824,5.640309582973004,27.610240219601366,29.147715041925103,45.45802031625507,12.557494799644797,14.552417034415413,2.0437587549369747,13.733706819541561,1.4927361090718896,12.50945978584655,44.18077544196972,35.03727873888465,53.9242364685992,28.293418325385062,32.141139846970106,23.24586287296498,27.465913988169937,13.391109917547222,35.59982130390134,81.32045079803878,97.76776896148606,85.35794731706989,75.67098978001388,99.19405633826177,76.63154328200605,78.33927191407375,81.96165478884703,74.87058264170554,59.34263208586938,31.101856293922676],\"yaxis\":\"y2\",\"type\":\"scatter\"},{\"line\":{\"color\":\"rgba (255, 127, 14, 1)\",\"dash\":\"solid\",\"width\":1.5},\"mode\":\"lines\",\"name\":\"D\",\"x\":[\"2021-12-14 00:00:00\",\"2021-12-15 00:00:00\",\"2021-12-16 00:00:00\",\"2021-12-17 00:00:00\",\"2021-12-20 00:00:00\",\"2021-12-21 00:00:00\",\"2021-12-22 00:00:00\",\"2021-12-23 00:00:00\",\"2021-12-27 00:00:00\",\"2021-12-28 00:00:00\",\"2021-12-29 00:00:00\",\"2021-12-30 00:00:00\",\"2021-12-31 00:00:00\",\"2022-01-03 00:00:00\",\"2022-01-04 00:00:00\",\"2022-01-05 00:00:00\",\"2022-01-06 00:00:00\",\"2022-01-07 00:00:00\",\"2022-01-10 00:00:00\",\"2022-01-11 00:00:00\",\"2022-01-12 00:00:00\",\"2022-01-13 00:00:00\",\"2022-01-14 00:00:00\",\"2022-01-18 00:00:00\",\"2022-01-19 00:00:00\",\"2022-01-20 00:00:00\",\"2022-01-21 00:00:00\",\"2022-01-24 00:00:00\",\"2022-01-25 00:00:00\",\"2022-01-26 00:00:00\",\"2022-01-27 00:00:00\",\"2022-01-28 00:00:00\",\"2022-01-31 00:00:00\",\"2022-02-01 00:00:00\",\"2022-02-02 00:00:00\",\"2022-02-03 00:00:00\",\"2022-02-04 00:00:00\",\"2022-02-07 00:00:00\",\"2022-02-08 00:00:00\",\"2022-02-09 00:00:00\",\"2022-02-10 00:00:00\",\"2022-02-11 00:00:00\",\"2022-02-14 00:00:00\",\"2022-02-15 00:00:00\",\"2022-02-16 00:00:00\",\"2022-02-17 00:00:00\",\"2022-02-18 00:00:00\",\"2022-02-22 00:00:00\",\"2022-02-23 00:00:00\",\"2022-02-24 00:00:00\",\"2022-02-25 00:00:00\",\"2022-02-28 00:00:00\",\"2022-03-01 00:00:00\",\"2022-03-02 00:00:00\",\"2022-03-03 00:00:00\",\"2022-03-04 00:00:00\",\"2022-03-07 00:00:00\",\"2022-03-08 00:00:00\",\"2022-03-09 00:00:00\",\"2022-03-10 00:00:00\",\"2022-03-11 00:00:00\",\"2022-03-14 00:00:00\",\"2022-03-15 00:00:00\",\"2022-03-16 00:00:00\",\"2022-03-17 00:00:00\",\"2022-03-18 00:00:00\",\"2022-03-21 00:00:00\",\"2022-03-22 00:00:00\",\"2022-03-23 00:00:00\",\"2022-03-24 00:00:00\",\"2022-03-25 00:00:00\",\"2022-03-28 00:00:00\",\"2022-03-29 00:00:00\",\"2022-03-30 00:00:00\",\"2022-03-31 00:00:00\",\"2022-04-01 00:00:00\",\"2022-04-04 00:00:00\",\"2022-04-05 00:00:00\",\"2022-04-06 00:00:00\",\"2022-04-07 00:00:00\",\"2022-04-08 00:00:00\",\"2022-04-11 00:00:00\",\"2022-04-12 00:00:00\",\"2022-04-13 00:00:00\",\"2022-04-14 00:00:00\",\"2022-04-18 00:00:00\",\"2022-04-19 00:00:00\",\"2022-04-20 00:00:00\",\"2022-04-21 00:00:00\",\"2022-04-22 00:00:00\",\"2022-04-25 00:00:00\",\"2022-04-26 00:00:00\",\"2022-04-27 00:00:00\",\"2022-04-28 00:00:00\",\"2022-04-29 00:00:00\",\"2022-05-02 00:00:00\",\"2022-05-03 00:00:00\",\"2022-05-04 00:00:00\",\"2022-05-05 00:00:00\",\"2022-05-06 00:00:00\",\"2022-05-09 00:00:00\",\"2022-05-10 00:00:00\",\"2022-05-11 00:00:00\",\"2022-05-12 00:00:00\",\"2022-05-13 00:00:00\",\"2022-05-16 00:00:00\",\"2022-05-17 00:00:00\",\"2022-05-18 00:00:00\",\"2022-05-19 00:00:00\",\"2022-05-20 00:00:00\",\"2022-05-23 00:00:00\",\"2022-05-24 00:00:00\",\"2022-05-25 00:00:00\",\"2022-05-26 00:00:00\",\"2022-05-27 00:00:00\",\"2022-05-31 00:00:00\",\"2022-06-01 00:00:00\",\"2022-06-02 00:00:00\",\"2022-06-03 00:00:00\",\"2022-06-06 00:00:00\",\"2022-06-07 00:00:00\",\"2022-06-08 00:00:00\",\"2022-06-09 00:00:00\",\"2022-06-10 00:00:00\"],\"xaxis\":\"x2\",\"y\":[17.35398833001182,23.814054067712345,29.20979507690643,26.339677215223603,12.100233891252351,18.002115441011785,29.151787452968005,41.70393461063471,53.51719452969502,59.92413948977869,63.05405823088169,58.59943036796366,56.05048774641805,60.92381660760035,58.56707065109067,44.17987758931654,29.182381619435386,13.587658937306875,20.2486588514568,24.310678334652057,36.65282301088243,31.818224104778125,26.69061486727767,14.586219105749926,9.219834407476068,1.986288870877278,0.8043505023622398,9.384321703572487,14.648396224461115,22.302390693012196,18.221472649405502,21.046726036094196,28.457068037258352,40.10436506522323,50.77385371711202,51.371753699034734,55.02945193050774,58.534338678063506,70.88902403544603,84.21388265383258,88.834397122671,76.01681290125062,60.39447352366204,63.92186436455635,79.08748689693012,73.99101559422719,47.908571187960355,20.32303813872268,8.439300679867834,19.530263672324608,34.28781089354262,52.98210899788915,51.485862887173305,51.85647317293614,49.11229523264061,46.826250125429056,31.140941816274438,19.461937062268216,22.82268362864514,35.54340449894162,42.713347923713286,33.00732562504323,36.85317989665321,56.74105406641407,83.82038390094863,97.22326642405999,96.49740890499181,93.50234608227242,86.04391925925965,87.45114445948434,88.1867197502569,95.6586856796702,95.15604875642306,92.65993752863142,86.20059590339929,77.67582461528741,73.88799635772615,61.04182528613405,40.19018455577428,20.46516407773934,7.4037899720521905,5.868755892373357,2.395585500172706,6.085681361601338,5.318730384457289,7.336375671613932,8.358946511759784,9.824024396798306,7.648878802434342,2.685963265983347,4.08346730242355,3.868496045498732,4.451139860251832,10.00512723751183,11.311924995465121,19.887708483262074,20.799421614833168,34.07199185926052,29.054410052608333,24.18931071677177,9.717890196332403,10.109960869631326,5.756733894516818,9.245300904820011,19.39432377896273,30.575837988900318,44.380763549817864,39.08497784428965,38.119598213651464,27.89347368177339,27.617638902701685,21.367628926227393,25.485615069872846,43.43712733982912,71.56268035447539,88.14872235886492,86.26556868618995,86.74099781178184,83.83219646676058,84.72162384478052,78.97748999497561,78.39050311487544,72.05828983880733,55.10502367383254],\"yaxis\":\"y2\",\"type\":\"scatter\"}],                        {\"autosize\":false,\"height\":720,\"hovermode\":\"closest\",\"width\":864,\"template\":{\"data\":{\"histogram2dcontour\":[{\"type\":\"histogram2dcontour\",\"colorbar\":{\"outlinewidth\":0,\"ticks\":\"\"},\"colorscale\":[[0.0,\"#0d0887\"],[0.1111111111111111,\"#46039f\"],[0.2222222222222222,\"#7201a8\"],[0.3333333333333333,\"#9c179e\"],[0.4444444444444444,\"#bd3786\"],[0.5555555555555556,\"#d8576b\"],[0.6666666666666666,\"#ed7953\"],[0.7777777777777778,\"#fb9f3a\"],[0.8888888888888888,\"#fdca26\"],[1.0,\"#f0f921\"]]}],\"choropleth\":[{\"type\":\"choropleth\",\"colorbar\":{\"outlinewidth\":0,\"ticks\":\"\"}}],\"histogram2d\":[{\"type\":\"histogram2d\",\"colorbar\":{\"outlinewidth\":0,\"ticks\":\"\"},\"colorscale\":[[0.0,\"#0d0887\"],[0.1111111111111111,\"#46039f\"],[0.2222222222222222,\"#7201a8\"],[0.3333333333333333,\"#9c179e\"],[0.4444444444444444,\"#bd3786\"],[0.5555555555555556,\"#d8576b\"],[0.6666666666666666,\"#ed7953\"],[0.7777777777777778,\"#fb9f3a\"],[0.8888888888888888,\"#fdca26\"],[1.0,\"#f0f921\"]]}],\"heatmap\":[{\"type\":\"heatmap\",\"colorbar\":{\"outlinewidth\":0,\"ticks\":\"\"},\"colorscale\":[[0.0,\"#0d0887\"],[0.1111111111111111,\"#46039f\"],[0.2222222222222222,\"#7201a8\"],[0.3333333333333333,\"#9c179e\"],[0.4444444444444444,\"#bd3786\"],[0.5555555555555556,\"#d8576b\"],[0.6666666666666666,\"#ed7953\"],[0.7777777777777778,\"#fb9f3a\"],[0.8888888888888888,\"#fdca26\"],[1.0,\"#f0f921\"]]}],\"heatmapgl\":[{\"type\":\"heatmapgl\",\"colorbar\":{\"outlinewidth\":0,\"ticks\":\"\"},\"colorscale\":[[0.0,\"#0d0887\"],[0.1111111111111111,\"#46039f\"],[0.2222222222222222,\"#7201a8\"],[0.3333333333333333,\"#9c179e\"],[0.4444444444444444,\"#bd3786\"],[0.5555555555555556,\"#d8576b\"],[0.6666666666666666,\"#ed7953\"],[0.7777777777777778,\"#fb9f3a\"],[0.8888888888888888,\"#fdca26\"],[1.0,\"#f0f921\"]]}],\"contourcarpet\":[{\"type\":\"contourcarpet\",\"colorbar\":{\"outlinewidth\":0,\"ticks\":\"\"}}],\"contour\":[{\"type\":\"contour\",\"colorbar\":{\"outlinewidth\":0,\"ticks\":\"\"},\"colorscale\":[[0.0,\"#0d0887\"],[0.1111111111111111,\"#46039f\"],[0.2222222222222222,\"#7201a8\"],[0.3333333333333333,\"#9c179e\"],[0.4444444444444444,\"#bd3786\"],[0.5555555555555556,\"#d8576b\"],[0.6666666666666666,\"#ed7953\"],[0.7777777777777778,\"#fb9f3a\"],[0.8888888888888888,\"#fdca26\"],[1.0,\"#f0f921\"]]}],\"surface\":[{\"type\":\"surface\",\"colorbar\":{\"outlinewidth\":0,\"ticks\":\"\"},\"colorscale\":[[0.0,\"#0d0887\"],[0.1111111111111111,\"#46039f\"],[0.2222222222222222,\"#7201a8\"],[0.3333333333333333,\"#9c179e\"],[0.4444444444444444,\"#bd3786\"],[0.5555555555555556,\"#d8576b\"],[0.6666666666666666,\"#ed7953\"],[0.7777777777777778,\"#fb9f3a\"],[0.8888888888888888,\"#fdca26\"],[1.0,\"#f0f921\"]]}],\"mesh3d\":[{\"type\":\"mesh3d\",\"colorbar\":{\"outlinewidth\":0,\"ticks\":\"\"}}],\"scatter\":[{\"fillpattern\":{\"fillmode\":\"overlay\",\"size\":10,\"solidity\":0.2},\"type\":\"scatter\"}],\"parcoords\":[{\"type\":\"parcoords\",\"line\":{\"colorbar\":{\"outlinewidth\":0,\"ticks\":\"\"}}}],\"scatterpolargl\":[{\"type\":\"scatterpolargl\",\"marker\":{\"colorbar\":{\"outlinewidth\":0,\"ticks\":\"\"}}}],\"bar\":[{\"error_x\":{\"color\":\"#2a3f5f\"},\"error_y\":{\"color\":\"#2a3f5f\"},\"marker\":{\"line\":{\"color\":\"#E5ECF6\",\"width\":0.5},\"pattern\":{\"fillmode\":\"overlay\",\"size\":10,\"solidity\":0.2}},\"type\":\"bar\"}],\"scattergeo\":[{\"type\":\"scattergeo\",\"marker\":{\"colorbar\":{\"outlinewidth\":0,\"ticks\":\"\"}}}],\"scatterpolar\":[{\"type\":\"scatterpolar\",\"marker\":{\"colorbar\":{\"outlinewidth\":0,\"ticks\":\"\"}}}],\"histogram\":[{\"marker\":{\"pattern\":{\"fillmode\":\"overlay\",\"size\":10,\"solidity\":0.2}},\"type\":\"histogram\"}],\"scattergl\":[{\"type\":\"scattergl\",\"marker\":{\"colorbar\":{\"outlinewidth\":0,\"ticks\":\"\"}}}],\"scatter3d\":[{\"type\":\"scatter3d\",\"line\":{\"colorbar\":{\"outlinewidth\":0,\"ticks\":\"\"}},\"marker\":{\"colorbar\":{\"outlinewidth\":0,\"ticks\":\"\"}}}],\"scattermapbox\":[{\"type\":\"scattermapbox\",\"marker\":{\"colorbar\":{\"outlinewidth\":0,\"ticks\":\"\"}}}],\"scatterternary\":[{\"type\":\"scatterternary\",\"marker\":{\"colorbar\":{\"outlinewidth\":0,\"ticks\":\"\"}}}],\"scattercarpet\":[{\"type\":\"scattercarpet\",\"marker\":{\"colorbar\":{\"outlinewidth\":0,\"ticks\":\"\"}}}],\"carpet\":[{\"aaxis\":{\"endlinecolor\":\"#2a3f5f\",\"gridcolor\":\"white\",\"linecolor\":\"white\",\"minorgridcolor\":\"white\",\"startlinecolor\":\"#2a3f5f\"},\"baxis\":{\"endlinecolor\":\"#2a3f5f\",\"gridcolor\":\"white\",\"linecolor\":\"white\",\"minorgridcolor\":\"white\",\"startlinecolor\":\"#2a3f5f\"},\"type\":\"carpet\"}],\"table\":[{\"cells\":{\"fill\":{\"color\":\"#EBF0F8\"},\"line\":{\"color\":\"white\"}},\"header\":{\"fill\":{\"color\":\"#C8D4E3\"},\"line\":{\"color\":\"white\"}},\"type\":\"table\"}],\"barpolar\":[{\"marker\":{\"line\":{\"color\":\"#E5ECF6\",\"width\":0.5},\"pattern\":{\"fillmode\":\"overlay\",\"size\":10,\"solidity\":0.2}},\"type\":\"barpolar\"}],\"pie\":[{\"automargin\":true,\"type\":\"pie\"}]},\"layout\":{\"autotypenumbers\":\"strict\",\"colorway\":[\"#636efa\",\"#EF553B\",\"#00cc96\",\"#ab63fa\",\"#FFA15A\",\"#19d3f3\",\"#FF6692\",\"#B6E880\",\"#FF97FF\",\"#FECB52\"],\"font\":{\"color\":\"#2a3f5f\"},\"hovermode\":\"closest\",\"hoverlabel\":{\"align\":\"left\"},\"paper_bgcolor\":\"white\",\"plot_bgcolor\":\"#E5ECF6\",\"polar\":{\"bgcolor\":\"#E5ECF6\",\"angularaxis\":{\"gridcolor\":\"white\",\"linecolor\":\"white\",\"ticks\":\"\"},\"radialaxis\":{\"gridcolor\":\"white\",\"linecolor\":\"white\",\"ticks\":\"\"}},\"ternary\":{\"bgcolor\":\"#E5ECF6\",\"aaxis\":{\"gridcolor\":\"white\",\"linecolor\":\"white\",\"ticks\":\"\"},\"baxis\":{\"gridcolor\":\"white\",\"linecolor\":\"white\",\"ticks\":\"\"},\"caxis\":{\"gridcolor\":\"white\",\"linecolor\":\"white\",\"ticks\":\"\"}},\"coloraxis\":{\"colorbar\":{\"outlinewidth\":0,\"ticks\":\"\"}},\"colorscale\":{\"sequential\":[[0.0,\"#0d0887\"],[0.1111111111111111,\"#46039f\"],[0.2222222222222222,\"#7201a8\"],[0.3333333333333333,\"#9c179e\"],[0.4444444444444444,\"#bd3786\"],[0.5555555555555556,\"#d8576b\"],[0.6666666666666666,\"#ed7953\"],[0.7777777777777778,\"#fb9f3a\"],[0.8888888888888888,\"#fdca26\"],[1.0,\"#f0f921\"]],\"sequentialminus\":[[0.0,\"#0d0887\"],[0.1111111111111111,\"#46039f\"],[0.2222222222222222,\"#7201a8\"],[0.3333333333333333,\"#9c179e\"],[0.4444444444444444,\"#bd3786\"],[0.5555555555555556,\"#d8576b\"],[0.6666666666666666,\"#ed7953\"],[0.7777777777777778,\"#fb9f3a\"],[0.8888888888888888,\"#fdca26\"],[1.0,\"#f0f921\"]],\"diverging\":[[0,\"#8e0152\"],[0.1,\"#c51b7d\"],[0.2,\"#de77ae\"],[0.3,\"#f1b6da\"],[0.4,\"#fde0ef\"],[0.5,\"#f7f7f7\"],[0.6,\"#e6f5d0\"],[0.7,\"#b8e186\"],[0.8,\"#7fbc41\"],[0.9,\"#4d9221\"],[1,\"#276419\"]]},\"xaxis\":{\"gridcolor\":\"white\",\"linecolor\":\"white\",\"ticks\":\"\",\"title\":{\"standoff\":15},\"zerolinecolor\":\"white\",\"automargin\":true,\"zerolinewidth\":2},\"yaxis\":{\"gridcolor\":\"white\",\"linecolor\":\"white\",\"ticks\":\"\",\"title\":{\"standoff\":15},\"zerolinecolor\":\"white\",\"automargin\":true,\"zerolinewidth\":2},\"scene\":{\"xaxis\":{\"backgroundcolor\":\"#E5ECF6\",\"gridcolor\":\"white\",\"linecolor\":\"white\",\"showbackground\":true,\"ticks\":\"\",\"zerolinecolor\":\"white\",\"gridwidth\":2},\"yaxis\":{\"backgroundcolor\":\"#E5ECF6\",\"gridcolor\":\"white\",\"linecolor\":\"white\",\"showbackground\":true,\"ticks\":\"\",\"zerolinecolor\":\"white\",\"gridwidth\":2},\"zaxis\":{\"backgroundcolor\":\"#E5ECF6\",\"gridcolor\":\"white\",\"linecolor\":\"white\",\"showbackground\":true,\"ticks\":\"\",\"zerolinecolor\":\"white\",\"gridwidth\":2}},\"shapedefaults\":{\"line\":{\"color\":\"#2a3f5f\"}},\"annotationdefaults\":{\"arrowcolor\":\"#2a3f5f\",\"arrowhead\":0,\"arrowwidth\":1},\"geo\":{\"bgcolor\":\"white\",\"landcolor\":\"#E5ECF6\",\"subunitcolor\":\"white\",\"showland\":true,\"showlakes\":true,\"lakecolor\":\"white\"},\"title\":{\"x\":0.05},\"mapbox\":{\"style\":\"light\"}}},\"margin\":{\"b\":27,\"l\":36,\"pad\":0,\"r\":14,\"t\":26},\"xaxis\":{\"anchor\":\"y\",\"domain\":[0.0,1.0],\"mirror\":\"ticks\",\"nticks\":6,\"range\":[\"2021-12-05 02:24:00\",\"2022-06-18 21:36:00\"],\"showgrid\":false,\"showline\":true,\"side\":\"top\",\"ticks\":\"inside\",\"type\":\"date\",\"zeroline\":false},\"yaxis\":{\"anchor\":\"x\",\"domain\":[0.5227682596934176,1.0],\"mirror\":\"ticks\",\"nticks\":10,\"range\":[154.14449234008788,316.8455131530762],\"showgrid\":false,\"showline\":true,\"side\":\"left\",\"tickfont\":{\"size\":10.0},\"ticks\":\"inside\",\"type\":\"linear\",\"zeroline\":false},\"annotations\":[{\"font\":{\"color\":\"#000000\",\"size\":12.0},\"showarrow\":false,\"text\":\"NVDA price, 6M\",\"x\":0.5003839066339067,\"xanchor\":\"center\",\"xref\":\"paper\",\"y\":1.016791604197901,\"yanchor\":\"bottom\",\"yref\":\"paper\"},{\"font\":{\"color\":\"#000000\",\"size\":12.0},\"showarrow\":false,\"text\":\"NVDA Stochastic Oscillator (14-day period), 6M\",\"x\":0.5003839066339067,\"xanchor\":\"center\",\"xref\":\"paper\",\"y\":0.4952773613193403,\"yanchor\":\"bottom\",\"yref\":\"paper\"},{\"align\":\"left\",\"font\":{\"color\":\"#000000\",\"size\":10.0},\"opacity\":1,\"showarrow\":false,\"text\":\"K\",\"x\":0.0466468342183485,\"xanchor\":\"left\",\"xref\":\"paper\",\"y\":0.45321808864108337,\"yanchor\":\"bottom\",\"yref\":\"paper\"},{\"align\":\"left\",\"font\":{\"color\":\"#000000\",\"size\":10.0},\"opacity\":1,\"showarrow\":false,\"text\":\"D\",\"x\":0.0466468342183485,\"xanchor\":\"left\",\"xref\":\"paper\",\"y\":0.43065851344521416,\"yanchor\":\"bottom\",\"yref\":\"paper\"},{\"align\":\"left\",\"font\":{\"color\":\"#000000\",\"size\":10.0},\"opacity\":1,\"showarrow\":false,\"text\":\"Overbought\",\"x\":0.0466468342183485,\"xanchor\":\"left\",\"xref\":\"paper\",\"y\":0.4080989382493449,\"yanchor\":\"bottom\",\"yref\":\"paper\"},{\"align\":\"left\",\"font\":{\"color\":\"#000000\",\"size\":10.0},\"opacity\":1,\"showarrow\":false,\"text\":\"Oversold\",\"x\":0.0466468342183485,\"xanchor\":\"left\",\"xref\":\"paper\",\"y\":0.3855393630534757,\"yanchor\":\"bottom\",\"yref\":\"paper\"}],\"xaxis2\":{\"anchor\":\"y2\",\"domain\":[0.0,1.0],\"mirror\":\"ticks\",\"nticks\":6,\"range\":[\"2021-12-05 02:24:00\",\"2022-06-18 21:36:00\"],\"showgrid\":false,\"showline\":true,\"side\":\"bottom\",\"tickfont\":{\"size\":10.0},\"ticks\":\"inside\",\"type\":\"date\",\"zeroline\":false},\"yaxis2\":{\"anchor\":\"x2\",\"domain\":[0.0,0.47723174030658255],\"mirror\":\"ticks\",\"nticks\":8,\"range\":[-10.0,110.0],\"showgrid\":false,\"showline\":true,\"side\":\"left\",\"tickfont\":{\"size\":10.0},\"ticks\":\"inside\",\"type\":\"linear\",\"zeroline\":false},\"shapes\":[{\"line\":{\"color\":\"rgba (31, 119, 180, 1)\",\"dash\":\"solid\",\"width\":4.0},\"type\":\"line\",\"x0\":0.011073175232998063,\"x1\":0.03568023130632709,\"xref\":\"paper\",\"y0\":0.9774870099196976,\"y1\":0.9774870099196976,\"yref\":\"paper\"},{\"line\":{\"color\":\"rgba (255, 127, 14, 1)\",\"dash\":\"solid\",\"width\":4.0},\"type\":\"line\",\"x0\":0.011073175232998063,\"x1\":0.03568023130632709,\"xref\":\"paper\",\"y0\":0.9302503542749173,\"y1\":0.9302503542749173,\"yref\":\"paper\"},{\"line\":{\"color\":\"rgba (214, 39, 40, 1)\",\"dash\":\"solid\",\"width\":4.0},\"type\":\"line\",\"x0\":0.011073175232998063,\"x1\":0.03568023130632709,\"xref\":\"paper\",\"y0\":0.883013698630137,\"y1\":0.883013698630137,\"yref\":\"paper\"},{\"line\":{\"color\":\"rgba (44, 160, 44, 1)\",\"dash\":\"solid\",\"width\":4.0},\"type\":\"line\",\"x0\":0.011073175232998063,\"x1\":0.03568023130632709,\"xref\":\"paper\",\"y0\":0.8357770429853566,\"y1\":0.8357770429853566,\"yref\":\"paper\"}],\"showlegend\":false},                        {\"responsive\": true}                    ).then(function(){\n",
       "                            \n",
       "var gd = document.getElementById('667fa7b6-866d-47c3-b1c1-83ef87a17364');\n",
       "var x = new MutationObserver(function (mutations, observer) {{\n",
       "        var display = window.getComputedStyle(gd).display;\n",
       "        if (!display || display === 'none') {{\n",
       "            console.log([gd, 'removed!']);\n",
       "            Plotly.purge(gd);\n",
       "            observer.disconnect();\n",
       "        }}\n",
       "}});\n",
       "\n",
       "// Listen for the removal of the full notebook cells\n",
       "var notebookContainer = gd.closest('#notebook-container');\n",
       "if (notebookContainer) {{\n",
       "    x.observe(notebookContainer, {childList: true});\n",
       "}}\n",
       "\n",
       "// Listen for the clearing of the current output cell\n",
       "var outputEl = gd.closest('.output');\n",
       "if (outputEl) {{\n",
       "    x.observe(outputEl, {childList: true});\n",
       "}}\n",
       "\n",
       "                        })                };                });            </script>        </div>"
      ]
     },
     "metadata": {},
     "output_type": "display_data"
    }
   ],
   "source": [
    "plotly_fig"
   ]
  },
  {
   "cell_type": "code",
   "execution_count": 41,
   "id": "5282effc",
   "metadata": {},
   "outputs": [],
   "source": [
    "graphJSON_stock = json.dumps(plotly_fig, cls=plotly.utils.PlotlyJSONEncoder)"
   ]
  },
  {
   "cell_type": "code",
   "execution_count": 37,
   "id": "ee8f4b47",
   "metadata": {},
   "outputs": [
    {
     "data": {
      "text/plain": [
       "'{\"data\": [{\"line\": {\"color\": \"rgba (31, 119, 180, 1)\", \"dash\": \"solid\", \"width\": 1.5}, \"mode\": \"lines\", \"name\": \"Close\", \"x\": [\"2021-12-14 00:00:00\", \"2021-12-15 00:00:00\", \"2021-12-16 00:00:00\", \"2021-12-17 00:00:00\", \"2021-12-20 00:00:00\", \"2021-12-21 00:00:00\", \"2021-12-22 00:00:00\", \"2021-12-23 00:00:00\", \"2021-12-27 00:00:00\", \"2021-12-28 00:00:00\", \"2021-12-29 00:00:00\", \"2021-12-30 00:00:00\", \"2021-12-31 00:00:00\", \"2022-01-03 00:00:00\", \"2022-01-04 00:00:00\", \"2022-01-05 00:00:00\", \"2022-01-06 00:00:00\", \"2022-01-07 00:00:00\", \"2022-01-10 00:00:00\", \"2022-01-11 00:00:00\", \"2022-01-12 00:00:00\", \"2022-01-13 00:00:00\", \"2022-01-14 00:00:00\", \"2022-01-18 00:00:00\", \"2022-01-19 00:00:00\", \"2022-01-20 00:00:00\", \"2022-01-21 00:00:00\", \"2022-01-24 00:00:00\", \"2022-01-25 00:00:00\", \"2022-01-26 00:00:00\", \"2022-01-27 00:00:00\", \"2022-01-28 00:00:00\", \"2022-01-31 00:00:00\", \"2022-02-01 00:00:00\", \"2022-02-02 00:00:00\", \"2022-02-03 00:00:00\", \"2022-02-04 00:00:00\", \"2022-02-07 00:00:00\", \"2022-02-08 00:00:00\", \"2022-02-09 00:00:00\", \"2022-02-10 00:00:00\", \"2022-02-11 00:00:00\", \"2022-02-14 00:00:00\", \"2022-02-15 00:00:00\", \"2022-02-16 00:00:00\", \"2022-02-17 00:00:00\", \"2022-02-18 00:00:00\", \"2022-02-22 00:00:00\", \"2022-02-23 00:00:00\", \"2022-02-24 00:00:00\", \"2022-02-25 00:00:00\", \"2022-02-28 00:00:00\", \"2022-03-01 00:00:00\", \"2022-03-02 00:00:00\", \"2022-03-03 00:00:00\", \"2022-03-04 00:00:00\", \"2022-03-07 00:00:00\", \"2022-03-08 00:00:00\", \"2022-03-09 00:00:00\", \"2022-03-10 00:00:00\", \"2022-03-11 00:00:00\", \"2022-03-14 00:00:00\", \"2022-03-15 00:00:00\", \"2022-03-16 00:00:00\", \"2022-03-17 00:00:00\", \"2022-03-18 00:00:00\", \"2022-03-21 00:00:00\", \"2022-03-22 00:00:00\", \"2022-03-23 00:00:00\", \"2022-03-24 00:00:00\", \"2022-03-25 00:00:00\", \"2022-03-28 00:00:00\", \"2022-03-29 00:00:00\", \"2022-03-30 00:00:00\", \"2022-03-31 00:00:00\", \"2022-04-01 00:00:00\", \"2022-04-04 00:00:00\", \"2022-04-05 00:00:00\", \"2022-04-06 00:00:00\", \"2022-04-07 00:00:00\", \"2022-04-08 00:00:00\", \"2022-04-11 00:00:00\", \"2022-04-12 00:00:00\", \"2022-04-13 00:00:00\", \"2022-04-14 00:00:00\", \"2022-04-18 00:00:00\", \"2022-04-19 00:00:00\", \"2022-04-20 00:00:00\", \"2022-04-21 00:00:00\", \"2022-04-22 00:00:00\", \"2022-04-25 00:00:00\", \"2022-04-26 00:00:00\", \"2022-04-27 00:00:00\", \"2022-04-28 00:00:00\", \"2022-04-29 00:00:00\", \"2022-05-02 00:00:00\", \"2022-05-03 00:00:00\", \"2022-05-04 00:00:00\", \"2022-05-05 00:00:00\", \"2022-05-06 00:00:00\", \"2022-05-09 00:00:00\", \"2022-05-10 00:00:00\", \"2022-05-11 00:00:00\", \"2022-05-12 00:00:00\", \"2022-05-13 00:00:00\", \"2022-05-16 00:00:00\", \"2022-05-17 00:00:00\", \"2022-05-18 00:00:00\", \"2022-05-19 00:00:00\", \"2022-05-20 00:00:00\", \"2022-05-23 00:00:00\", \"2022-05-24 00:00:00\", \"2022-05-25 00:00:00\", \"2022-05-26 00:00:00\", \"2022-05-27 00:00:00\", \"2022-05-31 00:00:00\", \"2022-06-01 00:00:00\", \"2022-06-02 00:00:00\", \"2022-06-03 00:00:00\", \"2022-06-06 00:00:00\", \"2022-06-07 00:00:00\", \"2022-06-08 00:00:00\", \"2022-06-09 00:00:00\", \"2022-06-10 00:00:00\"], \"xaxis\": \"x\", \"y\": [283.3699951171875, 304.5899963378906, 283.8699951171875, 278.010009765625, 277.19000244140625, 290.75, 294.0, 296.3999938964844, 309.45001220703125, 303.2200012207031, 300.010009765625, 295.8599853515625, 294.1099853515625, 301.2099914550781, 292.8999938964844, 276.0400085449219, 281.7799987792969, 272.4700012207031, 274.0, 278.1700134277344, 279.989990234375, 265.75, 269.4200134277344, 259.0299987792969, 250.6699981689453, 241.5, 233.74000549316406, 233.72000122070312, 223.24000549316406, 227.72000122070312, 219.44000244140625, 228.39999389648438, 244.86000061035156, 246.3800048828125, 252.4199981689453, 239.47999572753906, 243.19000244140625, 247.27999877929688, 251.0800018310547, 267.04998779296875, 258.239990234375, 239.49000549316406, 242.6699981689453, 264.95001220703125, 265.1099853515625, 245.07000732421875, 236.4199981689453, 233.89999389648438, 223.8699951171875, 237.47999572753906, 241.57000732421875, 243.85000610351562, 234.77000427246094, 242.1999969482422, 237.13999938964844, 229.36000061035156, 213.52000427246094, 215.13999938964844, 230.13999938964844, 226.5800018310547, 221.0, 213.3000030517578, 229.72999572753906, 244.9600067138672, 247.66000366210938, 264.5299987792969, 267.3399963378906, 265.239990234375, 256.3399963378906, 281.5, 276.9200134277344, 282.19000244140625, 286.55999755859375, 276.8999938964844, 272.8599853515625, 267.1199951171875, 273.6000061035156, 259.30999755859375, 244.07000732421875, 242.0800018310547, 231.19000244140625, 219.1699981689453, 215.0399932861328, 222.02999877929688, 212.5800018310547, 217.8300018310547, 221.97999572753906, 214.82000732421875, 201.8300018310547, 195.14999389648438, 199.02000427246094, 187.8800048828125, 184.14999389648438, 197.82000732421875, 185.47000122070312, 195.3300018310547, 196.02000427246094, 203.33999633789062, 188.44000244140625, 186.75, 169.5, 175.9499969482422, 166.3000030517578, 161.75, 177.05999755859375, 172.63999938964844, 181.77000427246094, 169.3800048828125, 171.24000549316406, 166.94000244140625, 168.97999572753906, 161.5399932861328, 169.75, 178.50999450683594, 188.11000061035156, 186.72000122070312, 183.1999969482422, 195.9199981689453, 187.1999969482422, 187.86000061035156, 189.25999450683594, 186.47999572753906, 180.47999572753906, 169.74000549316406], \"yaxis\": \"y\", \"type\": \"scatter\"}, {\"line\": {\"color\": \"rgba (31, 119, 180, 1)\", \"dash\": \"solid\", \"width\": 1.5}, \"mode\": \"lines\", \"name\": \"K\", \"x\": [\"2021-12-14 00:00:00\", \"2021-12-15 00:00:00\", \"2021-12-16 00:00:00\", \"2021-12-17 00:00:00\", \"2021-12-20 00:00:00\", \"2021-12-21 00:00:00\", \"2021-12-22 00:00:00\", \"2021-12-23 00:00:00\", \"2021-12-27 00:00:00\", \"2021-12-28 00:00:00\", \"2021-12-29 00:00:00\", \"2021-12-30 00:00:00\", \"2021-12-31 00:00:00\", \"2022-01-03 00:00:00\", \"2022-01-04 00:00:00\", \"2022-01-05 00:00:00\", \"2022-01-06 00:00:00\", \"2022-01-07 00:00:00\", \"2022-01-10 00:00:00\", \"2022-01-11 00:00:00\", \"2022-01-12 00:00:00\", \"2022-01-13 00:00:00\", \"2022-01-14 00:00:00\", \"2022-01-18 00:00:00\", \"2022-01-19 00:00:00\", \"2022-01-20 00:00:00\", \"2022-01-21 00:00:00\", \"2022-01-24 00:00:00\", \"2022-01-25 00:00:00\", \"2022-01-26 00:00:00\", \"2022-01-27 00:00:00\", \"2022-01-28 00:00:00\", \"2022-01-31 00:00:00\", \"2022-02-01 00:00:00\", \"2022-02-02 00:00:00\", \"2022-02-03 00:00:00\", \"2022-02-04 00:00:00\", \"2022-02-07 00:00:00\", \"2022-02-08 00:00:00\", \"2022-02-09 00:00:00\", \"2022-02-10 00:00:00\", \"2022-02-11 00:00:00\", \"2022-02-14 00:00:00\", \"2022-02-15 00:00:00\", \"2022-02-16 00:00:00\", \"2022-02-17 00:00:00\", \"2022-02-18 00:00:00\", \"2022-02-22 00:00:00\", \"2022-02-23 00:00:00\", \"2022-02-24 00:00:00\", \"2022-02-25 00:00:00\", \"2022-02-28 00:00:00\", \"2022-03-01 00:00:00\", \"2022-03-02 00:00:00\", \"2022-03-03 00:00:00\", \"2022-03-04 00:00:00\", \"2022-03-07 00:00:00\", \"2022-03-08 00:00:00\", \"2022-03-09 00:00:00\", \"2022-03-10 00:00:00\", \"2022-03-11 00:00:00\", \"2022-03-14 00:00:00\", \"2022-03-15 00:00:00\", \"2022-03-16 00:00:00\", \"2022-03-17 00:00:00\", \"2022-03-18 00:00:00\", \"2022-03-21 00:00:00\", \"2022-03-22 00:00:00\", \"2022-03-23 00:00:00\", \"2022-03-24 00:00:00\", \"2022-03-25 00:00:00\", \"2022-03-28 00:00:00\", \"2022-03-29 00:00:00\", \"2022-03-30 00:00:00\", \"2022-03-31 00:00:00\", \"2022-04-01 00:00:00\", \"2022-04-04 00:00:00\", \"2022-04-05 00:00:00\", \"2022-04-06 00:00:00\", \"2022-04-07 00:00:00\", \"2022-04-08 00:00:00\", \"2022-04-11 00:00:00\", \"2022-04-12 00:00:00\", \"2022-04-13 00:00:00\", \"2022-04-14 00:00:00\", \"2022-04-18 00:00:00\", \"2022-04-19 00:00:00\", \"2022-04-20 00:00:00\", \"2022-04-21 00:00:00\", \"2022-04-22 00:00:00\", \"2022-04-25 00:00:00\", \"2022-04-26 00:00:00\", \"2022-04-27 00:00:00\", \"2022-04-28 00:00:00\", \"2022-04-29 00:00:00\", \"2022-05-02 00:00:00\", \"2022-05-03 00:00:00\", \"2022-05-04 00:00:00\", \"2022-05-05 00:00:00\", \"2022-05-06 00:00:00\", \"2022-05-09 00:00:00\", \"2022-05-10 00:00:00\", \"2022-05-11 00:00:00\", \"2022-05-12 00:00:00\", \"2022-05-13 00:00:00\", \"2022-05-16 00:00:00\", \"2022-05-17 00:00:00\", \"2022-05-18 00:00:00\", \"2022-05-19 00:00:00\", \"2022-05-20 00:00:00\", \"2022-05-23 00:00:00\", \"2022-05-24 00:00:00\", \"2022-05-25 00:00:00\", \"2022-05-26 00:00:00\", \"2022-05-27 00:00:00\", \"2022-05-31 00:00:00\", \"2022-06-01 00:00:00\", \"2022-06-02 00:00:00\", \"2022-06-03 00:00:00\", \"2022-06-06 00:00:00\", \"2022-06-07 00:00:00\", \"2022-06-08 00:00:00\", \"2022-06-09 00:00:00\", \"2022-06-10 00:00:00\"], \"xaxis\": \"x2\", \"y\": [17.464851790146813, 51.88855387675295, 18.27597956381948, 8.85449820509833, 9.170223904839201, 35.98162421309779, 42.30351424096699, 46.826665377839305, 71.42140397027872, 61.524349121218, 56.216421601148326, 58.05752038152464, 53.877521256581154, 70.83640818469526, 50.987282511995566, 10.71594207125877, 25.843920275051786, 4.203114465610038, 30.698941813708547, 38.02997872463756, 41.22954849430116, 16.19514509539563, 22.647151012136188, 4.916361209717928, 0.09599100057405854, 0.9465144023398195, 1.3705461041728129, 25.835904604204803, 16.738737965005697, 24.332529509826053, 13.59315047338473, 25.21449812507177, 46.56355551331852, 48.53504155727936, 57.22296408073815, 48.35725545908666, 59.508136251698375, 67.73762432340546, 85.42131153123424, 99.48271210685806, 81.59916772992068, 46.96855886697311, 52.615693974092316, 92.1813402526036, 92.4654264640944, 37.32628006598354, 13.934007033803105, 9.708827316381369, 1.6750676894190013, 47.20689601117343, 53.98146898003539, 57.7579620024586, 42.7181576790259, 55.09329983732388, 49.52542818157204, 35.86002235739121, 8.037374909860038, 14.48841391955337, 45.94226205652199, 46.19953752074946, 35.99824419386836, 16.82419516051184, 57.73710033557939, 95.66186670315095, 98.06218466411552, 97.94574790491343, 93.4842941459465, 89.0769961959573, 75.57046743587512, 97.7059697466206, 91.28372206827497, 97.98636522411496, 96.19805897687922, 83.79538838490008, 78.60834034841851, 70.62374511254359, 72.43190361221633, 40.069827133642185, 8.068822921464301, 13.256842178111505, 0.8857048165807344, 3.4637206824278026, 2.837331001509553, 11.955992400866629, 1.1628677509956542, 8.890266862979484, 15.023704921304187, 5.558101406111219, 2.364830079887588, 0.1349583119512052, 9.750613515431827, 1.7199163091131329, 1.8828897562105067, 26.412575647211824, 5.640309582973004, 27.610240219601366, 29.147715041925103, 45.45802031625507, 12.557494799644797, 14.552417034415413, 2.0437587549369747, 13.733706819541561, 1.4927361090718896, 12.50945978584655, 44.18077544196972, 35.03727873888465, 53.9242364685992, 28.293418325385062, 32.141139846970106, 23.24586287296498, 27.465913988169937, 13.391109917547222, 35.59982130390134, 81.32045079803878, 97.76776896148606, 85.35794731706989, 75.67098978001388, 99.19405633826177, 76.63154328200605, 78.33927191407375, 81.96165478884703, 74.87058264170554, 59.34263208586938, 31.101856293922676], \"yaxis\": \"y2\", \"type\": \"scatter\"}, {\"line\": {\"color\": \"rgba (255, 127, 14, 1)\", \"dash\": \"solid\", \"width\": 1.5}, \"mode\": \"lines\", \"name\": \"D\", \"x\": [\"2021-12-14 00:00:00\", \"2021-12-15 00:00:00\", \"2021-12-16 00:00:00\", \"2021-12-17 00:00:00\", \"2021-12-20 00:00:00\", \"2021-12-21 00:00:00\", \"2021-12-22 00:00:00\", \"2021-12-23 00:00:00\", \"2021-12-27 00:00:00\", \"2021-12-28 00:00:00\", \"2021-12-29 00:00:00\", \"2021-12-30 00:00:00\", \"2021-12-31 00:00:00\", \"2022-01-03 00:00:00\", \"2022-01-04 00:00:00\", \"2022-01-05 00:00:00\", \"2022-01-06 00:00:00\", \"2022-01-07 00:00:00\", \"2022-01-10 00:00:00\", \"2022-01-11 00:00:00\", \"2022-01-12 00:00:00\", \"2022-01-13 00:00:00\", \"2022-01-14 00:00:00\", \"2022-01-18 00:00:00\", \"2022-01-19 00:00:00\", \"2022-01-20 00:00:00\", \"2022-01-21 00:00:00\", \"2022-01-24 00:00:00\", \"2022-01-25 00:00:00\", \"2022-01-26 00:00:00\", \"2022-01-27 00:00:00\", \"2022-01-28 00:00:00\", \"2022-01-31 00:00:00\", \"2022-02-01 00:00:00\", \"2022-02-02 00:00:00\", \"2022-02-03 00:00:00\", \"2022-02-04 00:00:00\", \"2022-02-07 00:00:00\", \"2022-02-08 00:00:00\", \"2022-02-09 00:00:00\", \"2022-02-10 00:00:00\", \"2022-02-11 00:00:00\", \"2022-02-14 00:00:00\", \"2022-02-15 00:00:00\", \"2022-02-16 00:00:00\", \"2022-02-17 00:00:00\", \"2022-02-18 00:00:00\", \"2022-02-22 00:00:00\", \"2022-02-23 00:00:00\", \"2022-02-24 00:00:00\", \"2022-02-25 00:00:00\", \"2022-02-28 00:00:00\", \"2022-03-01 00:00:00\", \"2022-03-02 00:00:00\", \"2022-03-03 00:00:00\", \"2022-03-04 00:00:00\", \"2022-03-07 00:00:00\", \"2022-03-08 00:00:00\", \"2022-03-09 00:00:00\", \"2022-03-10 00:00:00\", \"2022-03-11 00:00:00\", \"2022-03-14 00:00:00\", \"2022-03-15 00:00:00\", \"2022-03-16 00:00:00\", \"2022-03-17 00:00:00\", \"2022-03-18 00:00:00\", \"2022-03-21 00:00:00\", \"2022-03-22 00:00:00\", \"2022-03-23 00:00:00\", \"2022-03-24 00:00:00\", \"2022-03-25 00:00:00\", \"2022-03-28 00:00:00\", \"2022-03-29 00:00:00\", \"2022-03-30 00:00:00\", \"2022-03-31 00:00:00\", \"2022-04-01 00:00:00\", \"2022-04-04 00:00:00\", \"2022-04-05 00:00:00\", \"2022-04-06 00:00:00\", \"2022-04-07 00:00:00\", \"2022-04-08 00:00:00\", \"2022-04-11 00:00:00\", \"2022-04-12 00:00:00\", \"2022-04-13 00:00:00\", \"2022-04-14 00:00:00\", \"2022-04-18 00:00:00\", \"2022-04-19 00:00:00\", \"2022-04-20 00:00:00\", \"2022-04-21 00:00:00\", \"2022-04-22 00:00:00\", \"2022-04-25 00:00:00\", \"2022-04-26 00:00:00\", \"2022-04-27 00:00:00\", \"2022-04-28 00:00:00\", \"2022-04-29 00:00:00\", \"2022-05-02 00:00:00\", \"2022-05-03 00:00:00\", \"2022-05-04 00:00:00\", \"2022-05-05 00:00:00\", \"2022-05-06 00:00:00\", \"2022-05-09 00:00:00\", \"2022-05-10 00:00:00\", \"2022-05-11 00:00:00\", \"2022-05-12 00:00:00\", \"2022-05-13 00:00:00\", \"2022-05-16 00:00:00\", \"2022-05-17 00:00:00\", \"2022-05-18 00:00:00\", \"2022-05-19 00:00:00\", \"2022-05-20 00:00:00\", \"2022-05-23 00:00:00\", \"2022-05-24 00:00:00\", \"2022-05-25 00:00:00\", \"2022-05-26 00:00:00\", \"2022-05-27 00:00:00\", \"2022-05-31 00:00:00\", \"2022-06-01 00:00:00\", \"2022-06-02 00:00:00\", \"2022-06-03 00:00:00\", \"2022-06-06 00:00:00\", \"2022-06-07 00:00:00\", \"2022-06-08 00:00:00\", \"2022-06-09 00:00:00\", \"2022-06-10 00:00:00\"], \"xaxis\": \"x2\", \"y\": [17.35398833001182, 23.814054067712345, 29.20979507690643, 26.339677215223603, 12.100233891252351, 18.002115441011785, 29.151787452968005, 41.70393461063471, 53.51719452969502, 59.92413948977869, 63.05405823088169, 58.59943036796366, 56.05048774641805, 60.92381660760035, 58.56707065109067, 44.17987758931654, 29.182381619435386, 13.587658937306875, 20.2486588514568, 24.310678334652057, 36.65282301088243, 31.818224104778125, 26.69061486727767, 14.586219105749926, 9.219834407476068, 1.986288870877278, 0.8043505023622398, 9.384321703572487, 14.648396224461115, 22.302390693012196, 18.221472649405502, 21.046726036094196, 28.457068037258352, 40.10436506522323, 50.77385371711202, 51.371753699034734, 55.02945193050774, 58.534338678063506, 70.88902403544603, 84.21388265383258, 88.834397122671, 76.01681290125062, 60.39447352366204, 63.92186436455635, 79.08748689693012, 73.99101559422719, 47.908571187960355, 20.32303813872268, 8.439300679867834, 19.530263672324608, 34.28781089354262, 52.98210899788915, 51.485862887173305, 51.85647317293614, 49.11229523264061, 46.826250125429056, 31.140941816274438, 19.461937062268216, 22.82268362864514, 35.54340449894162, 42.713347923713286, 33.00732562504323, 36.85317989665321, 56.74105406641407, 83.82038390094863, 97.22326642405999, 96.49740890499181, 93.50234608227242, 86.04391925925965, 87.45114445948434, 88.1867197502569, 95.6586856796702, 95.15604875642306, 92.65993752863142, 86.20059590339929, 77.67582461528741, 73.88799635772615, 61.04182528613405, 40.19018455577428, 20.46516407773934, 7.4037899720521905, 5.868755892373357, 2.395585500172706, 6.085681361601338, 5.318730384457289, 7.336375671613932, 8.358946511759784, 9.824024396798306, 7.648878802434342, 2.685963265983347, 4.08346730242355, 3.868496045498732, 4.451139860251832, 10.00512723751183, 11.311924995465121, 19.887708483262074, 20.799421614833168, 34.07199185926052, 29.054410052608333, 24.18931071677177, 9.717890196332403, 10.109960869631326, 5.756733894516818, 9.245300904820011, 19.39432377896273, 30.575837988900318, 44.380763549817864, 39.08497784428965, 38.119598213651464, 27.89347368177339, 27.617638902701685, 21.367628926227393, 25.485615069872846, 43.43712733982912, 71.56268035447539, 88.14872235886492, 86.26556868618995, 86.74099781178184, 83.83219646676058, 84.72162384478052, 78.97748999497561, 78.39050311487544, 72.05828983880733, 55.10502367383254], \"yaxis\": \"y2\", \"type\": \"scatter\"}], \"layout\": {\"autosize\": false, \"height\": 720, \"hovermode\": \"closest\", \"width\": 864, \"template\": {\"data\": {\"histogram2dcontour\": [{\"type\": \"histogram2dcontour\", \"colorbar\": {\"outlinewidth\": 0, \"ticks\": \"\"}, \"colorscale\": [[0.0, \"#0d0887\"], [0.1111111111111111, \"#46039f\"], [0.2222222222222222, \"#7201a8\"], [0.3333333333333333, \"#9c179e\"], [0.4444444444444444, \"#bd3786\"], [0.5555555555555556, \"#d8576b\"], [0.6666666666666666, \"#ed7953\"], [0.7777777777777778, \"#fb9f3a\"], [0.8888888888888888, \"#fdca26\"], [1.0, \"#f0f921\"]]}], \"choropleth\": [{\"type\": \"choropleth\", \"colorbar\": {\"outlinewidth\": 0, \"ticks\": \"\"}}], \"histogram2d\": [{\"type\": \"histogram2d\", \"colorbar\": {\"outlinewidth\": 0, \"ticks\": \"\"}, \"colorscale\": [[0.0, \"#0d0887\"], [0.1111111111111111, \"#46039f\"], [0.2222222222222222, \"#7201a8\"], [0.3333333333333333, \"#9c179e\"], [0.4444444444444444, \"#bd3786\"], [0.5555555555555556, \"#d8576b\"], [0.6666666666666666, \"#ed7953\"], [0.7777777777777778, \"#fb9f3a\"], [0.8888888888888888, \"#fdca26\"], [1.0, \"#f0f921\"]]}], \"heatmap\": [{\"type\": \"heatmap\", \"colorbar\": {\"outlinewidth\": 0, \"ticks\": \"\"}, \"colorscale\": [[0.0, \"#0d0887\"], [0.1111111111111111, \"#46039f\"], [0.2222222222222222, \"#7201a8\"], [0.3333333333333333, \"#9c179e\"], [0.4444444444444444, \"#bd3786\"], [0.5555555555555556, \"#d8576b\"], [0.6666666666666666, \"#ed7953\"], [0.7777777777777778, \"#fb9f3a\"], [0.8888888888888888, \"#fdca26\"], [1.0, \"#f0f921\"]]}], \"heatmapgl\": [{\"type\": \"heatmapgl\", \"colorbar\": {\"outlinewidth\": 0, \"ticks\": \"\"}, \"colorscale\": [[0.0, \"#0d0887\"], [0.1111111111111111, \"#46039f\"], [0.2222222222222222, \"#7201a8\"], [0.3333333333333333, \"#9c179e\"], [0.4444444444444444, \"#bd3786\"], [0.5555555555555556, \"#d8576b\"], [0.6666666666666666, \"#ed7953\"], [0.7777777777777778, \"#fb9f3a\"], [0.8888888888888888, \"#fdca26\"], [1.0, \"#f0f921\"]]}], \"contourcarpet\": [{\"type\": \"contourcarpet\", \"colorbar\": {\"outlinewidth\": 0, \"ticks\": \"\"}}], \"contour\": [{\"type\": \"contour\", \"colorbar\": {\"outlinewidth\": 0, \"ticks\": \"\"}, \"colorscale\": [[0.0, \"#0d0887\"], [0.1111111111111111, \"#46039f\"], [0.2222222222222222, \"#7201a8\"], [0.3333333333333333, \"#9c179e\"], [0.4444444444444444, \"#bd3786\"], [0.5555555555555556, \"#d8576b\"], [0.6666666666666666, \"#ed7953\"], [0.7777777777777778, \"#fb9f3a\"], [0.8888888888888888, \"#fdca26\"], [1.0, \"#f0f921\"]]}], \"surface\": [{\"type\": \"surface\", \"colorbar\": {\"outlinewidth\": 0, \"ticks\": \"\"}, \"colorscale\": [[0.0, \"#0d0887\"], [0.1111111111111111, \"#46039f\"], [0.2222222222222222, \"#7201a8\"], [0.3333333333333333, \"#9c179e\"], [0.4444444444444444, \"#bd3786\"], [0.5555555555555556, \"#d8576b\"], [0.6666666666666666, \"#ed7953\"], [0.7777777777777778, \"#fb9f3a\"], [0.8888888888888888, \"#fdca26\"], [1.0, \"#f0f921\"]]}], \"mesh3d\": [{\"type\": \"mesh3d\", \"colorbar\": {\"outlinewidth\": 0, \"ticks\": \"\"}}], \"scatter\": [{\"fillpattern\": {\"fillmode\": \"overlay\", \"size\": 10, \"solidity\": 0.2}, \"type\": \"scatter\"}], \"parcoords\": [{\"type\": \"parcoords\", \"line\": {\"colorbar\": {\"outlinewidth\": 0, \"ticks\": \"\"}}}], \"scatterpolargl\": [{\"type\": \"scatterpolargl\", \"marker\": {\"colorbar\": {\"outlinewidth\": 0, \"ticks\": \"\"}}}], \"bar\": [{\"error_x\": {\"color\": \"#2a3f5f\"}, \"error_y\": {\"color\": \"#2a3f5f\"}, \"marker\": {\"line\": {\"color\": \"#E5ECF6\", \"width\": 0.5}, \"pattern\": {\"fillmode\": \"overlay\", \"size\": 10, \"solidity\": 0.2}}, \"type\": \"bar\"}], \"scattergeo\": [{\"type\": \"scattergeo\", \"marker\": {\"colorbar\": {\"outlinewidth\": 0, \"ticks\": \"\"}}}], \"scatterpolar\": [{\"type\": \"scatterpolar\", \"marker\": {\"colorbar\": {\"outlinewidth\": 0, \"ticks\": \"\"}}}], \"histogram\": [{\"marker\": {\"pattern\": {\"fillmode\": \"overlay\", \"size\": 10, \"solidity\": 0.2}}, \"type\": \"histogram\"}], \"scattergl\": [{\"type\": \"scattergl\", \"marker\": {\"colorbar\": {\"outlinewidth\": 0, \"ticks\": \"\"}}}], \"scatter3d\": [{\"type\": \"scatter3d\", \"line\": {\"colorbar\": {\"outlinewidth\": 0, \"ticks\": \"\"}}, \"marker\": {\"colorbar\": {\"outlinewidth\": 0, \"ticks\": \"\"}}}], \"scattermapbox\": [{\"type\": \"scattermapbox\", \"marker\": {\"colorbar\": {\"outlinewidth\": 0, \"ticks\": \"\"}}}], \"scatterternary\": [{\"type\": \"scatterternary\", \"marker\": {\"colorbar\": {\"outlinewidth\": 0, \"ticks\": \"\"}}}], \"scattercarpet\": [{\"type\": \"scattercarpet\", \"marker\": {\"colorbar\": {\"outlinewidth\": 0, \"ticks\": \"\"}}}], \"carpet\": [{\"aaxis\": {\"endlinecolor\": \"#2a3f5f\", \"gridcolor\": \"white\", \"linecolor\": \"white\", \"minorgridcolor\": \"white\", \"startlinecolor\": \"#2a3f5f\"}, \"baxis\": {\"endlinecolor\": \"#2a3f5f\", \"gridcolor\": \"white\", \"linecolor\": \"white\", \"minorgridcolor\": \"white\", \"startlinecolor\": \"#2a3f5f\"}, \"type\": \"carpet\"}], \"table\": [{\"cells\": {\"fill\": {\"color\": \"#EBF0F8\"}, \"line\": {\"color\": \"white\"}}, \"header\": {\"fill\": {\"color\": \"#C8D4E3\"}, \"line\": {\"color\": \"white\"}}, \"type\": \"table\"}], \"barpolar\": [{\"marker\": {\"line\": {\"color\": \"#E5ECF6\", \"width\": 0.5}, \"pattern\": {\"fillmode\": \"overlay\", \"size\": 10, \"solidity\": 0.2}}, \"type\": \"barpolar\"}], \"pie\": [{\"automargin\": true, \"type\": \"pie\"}]}, \"layout\": {\"autotypenumbers\": \"strict\", \"colorway\": [\"#636efa\", \"#EF553B\", \"#00cc96\", \"#ab63fa\", \"#FFA15A\", \"#19d3f3\", \"#FF6692\", \"#B6E880\", \"#FF97FF\", \"#FECB52\"], \"font\": {\"color\": \"#2a3f5f\"}, \"hovermode\": \"closest\", \"hoverlabel\": {\"align\": \"left\"}, \"paper_bgcolor\": \"white\", \"plot_bgcolor\": \"#E5ECF6\", \"polar\": {\"bgcolor\": \"#E5ECF6\", \"angularaxis\": {\"gridcolor\": \"white\", \"linecolor\": \"white\", \"ticks\": \"\"}, \"radialaxis\": {\"gridcolor\": \"white\", \"linecolor\": \"white\", \"ticks\": \"\"}}, \"ternary\": {\"bgcolor\": \"#E5ECF6\", \"aaxis\": {\"gridcolor\": \"white\", \"linecolor\": \"white\", \"ticks\": \"\"}, \"baxis\": {\"gridcolor\": \"white\", \"linecolor\": \"white\", \"ticks\": \"\"}, \"caxis\": {\"gridcolor\": \"white\", \"linecolor\": \"white\", \"ticks\": \"\"}}, \"coloraxis\": {\"colorbar\": {\"outlinewidth\": 0, \"ticks\": \"\"}}, \"colorscale\": {\"sequential\": [[0.0, \"#0d0887\"], [0.1111111111111111, \"#46039f\"], [0.2222222222222222, \"#7201a8\"], [0.3333333333333333, \"#9c179e\"], [0.4444444444444444, \"#bd3786\"], [0.5555555555555556, \"#d8576b\"], [0.6666666666666666, \"#ed7953\"], [0.7777777777777778, \"#fb9f3a\"], [0.8888888888888888, \"#fdca26\"], [1.0, \"#f0f921\"]], \"sequentialminus\": [[0.0, \"#0d0887\"], [0.1111111111111111, \"#46039f\"], [0.2222222222222222, \"#7201a8\"], [0.3333333333333333, \"#9c179e\"], [0.4444444444444444, \"#bd3786\"], [0.5555555555555556, \"#d8576b\"], [0.6666666666666666, \"#ed7953\"], [0.7777777777777778, \"#fb9f3a\"], [0.8888888888888888, \"#fdca26\"], [1.0, \"#f0f921\"]], \"diverging\": [[0, \"#8e0152\"], [0.1, \"#c51b7d\"], [0.2, \"#de77ae\"], [0.3, \"#f1b6da\"], [0.4, \"#fde0ef\"], [0.5, \"#f7f7f7\"], [0.6, \"#e6f5d0\"], [0.7, \"#b8e186\"], [0.8, \"#7fbc41\"], [0.9, \"#4d9221\"], [1, \"#276419\"]]}, \"xaxis\": {\"gridcolor\": \"white\", \"linecolor\": \"white\", \"ticks\": \"\", \"title\": {\"standoff\": 15}, \"zerolinecolor\": \"white\", \"automargin\": true, \"zerolinewidth\": 2}, \"yaxis\": {\"gridcolor\": \"white\", \"linecolor\": \"white\", \"ticks\": \"\", \"title\": {\"standoff\": 15}, \"zerolinecolor\": \"white\", \"automargin\": true, \"zerolinewidth\": 2}, \"scene\": {\"xaxis\": {\"backgroundcolor\": \"#E5ECF6\", \"gridcolor\": \"white\", \"linecolor\": \"white\", \"showbackground\": true, \"ticks\": \"\", \"zerolinecolor\": \"white\", \"gridwidth\": 2}, \"yaxis\": {\"backgroundcolor\": \"#E5ECF6\", \"gridcolor\": \"white\", \"linecolor\": \"white\", \"showbackground\": true, \"ticks\": \"\", \"zerolinecolor\": \"white\", \"gridwidth\": 2}, \"zaxis\": {\"backgroundcolor\": \"#E5ECF6\", \"gridcolor\": \"white\", \"linecolor\": \"white\", \"showbackground\": true, \"ticks\": \"\", \"zerolinecolor\": \"white\", \"gridwidth\": 2}}, \"shapedefaults\": {\"line\": {\"color\": \"#2a3f5f\"}}, \"annotationdefaults\": {\"arrowcolor\": \"#2a3f5f\", \"arrowhead\": 0, \"arrowwidth\": 1}, \"geo\": {\"bgcolor\": \"white\", \"landcolor\": \"#E5ECF6\", \"subunitcolor\": \"white\", \"showland\": true, \"showlakes\": true, \"lakecolor\": \"white\"}, \"title\": {\"x\": 0.05}, \"mapbox\": {\"style\": \"light\"}}}, \"margin\": {\"b\": 27, \"l\": 36, \"pad\": 0, \"r\": 14, \"t\": 26}, \"xaxis\": {\"anchor\": \"y\", \"domain\": [0.0, 1.0], \"mirror\": \"ticks\", \"nticks\": 6, \"range\": [\"2021-12-05 02:24:00\", \"2022-06-18 21:36:00\"], \"showgrid\": false, \"showline\": true, \"side\": \"top\", \"ticks\": \"inside\", \"type\": \"date\", \"zeroline\": false}, \"yaxis\": {\"anchor\": \"x\", \"domain\": [0.5227682596934176, 1.0], \"mirror\": \"ticks\", \"nticks\": 10, \"range\": [154.14449234008788, 316.8455131530762], \"showgrid\": false, \"showline\": true, \"side\": \"left\", \"tickfont\": {\"size\": 10.0}, \"ticks\": \"inside\", \"type\": \"linear\", \"zeroline\": false}, \"annotations\": [{\"font\": {\"color\": \"#000000\", \"size\": 12.0}, \"showarrow\": false, \"text\": \"NVDA price, 6M\", \"x\": 0.5003839066339067, \"xanchor\": \"center\", \"xref\": \"paper\", \"y\": 1.016791604197901, \"yanchor\": \"bottom\", \"yref\": \"paper\"}, {\"font\": {\"color\": \"#000000\", \"size\": 12.0}, \"showarrow\": false, \"text\": \"NVDA Stochastic Oscillator (14-day period), 6M\", \"x\": 0.5003839066339067, \"xanchor\": \"center\", \"xref\": \"paper\", \"y\": 0.4952773613193402, \"yanchor\": \"bottom\", \"yref\": \"paper\"}, {\"align\": \"left\", \"font\": {\"color\": \"#000000\", \"size\": 10.0}, \"opacity\": 1, \"showarrow\": false, \"text\": \"K\", \"x\": 0.0466468342183485, \"xanchor\": \"left\", \"xref\": \"paper\", \"y\": 0.4532180886410833, \"yanchor\": \"bottom\", \"yref\": \"paper\"}, {\"align\": \"left\", \"font\": {\"color\": \"#000000\", \"size\": 10.0}, \"opacity\": 1, \"showarrow\": false, \"text\": \"D\", \"x\": 0.0466468342183485, \"xanchor\": \"left\", \"xref\": \"paper\", \"y\": 0.43065851344521405, \"yanchor\": \"bottom\", \"yref\": \"paper\"}, {\"align\": \"left\", \"font\": {\"color\": \"#000000\", \"size\": 10.0}, \"opacity\": 1, \"showarrow\": false, \"text\": \"Overbought\", \"x\": 0.0466468342183485, \"xanchor\": \"left\", \"xref\": \"paper\", \"y\": 0.40809893824934484, \"yanchor\": \"bottom\", \"yref\": \"paper\"}, {\"align\": \"left\", \"font\": {\"color\": \"#000000\", \"size\": 10.0}, \"opacity\": 1, \"showarrow\": false, \"text\": \"Oversold\", \"x\": 0.0466468342183485, \"xanchor\": \"left\", \"xref\": \"paper\", \"y\": 0.3855393630534756, \"yanchor\": \"bottom\", \"yref\": \"paper\"}], \"xaxis2\": {\"anchor\": \"y2\", \"domain\": [0.0, 1.0], \"mirror\": \"ticks\", \"nticks\": 6, \"range\": [\"2021-12-05 02:24:00\", \"2022-06-18 21:36:00\"], \"showgrid\": false, \"showline\": true, \"side\": \"bottom\", \"tickfont\": {\"size\": 10.0}, \"ticks\": \"inside\", \"type\": \"date\", \"zeroline\": false}, \"yaxis2\": {\"anchor\": \"x2\", \"domain\": [0.0, 0.4772317403065825], \"mirror\": \"ticks\", \"nticks\": 8, \"range\": [-10.0, 110.0], \"showgrid\": false, \"showline\": true, \"side\": \"left\", \"tickfont\": {\"size\": 10.0}, \"ticks\": \"inside\", \"type\": \"linear\", \"zeroline\": false}, \"shapes\": [{\"line\": {\"color\": \"rgba (31, 119, 180, 1)\", \"dash\": \"solid\", \"width\": 4.0}, \"type\": \"line\", \"x0\": 0.011073175232998063, \"x1\": 0.03568023130632709, \"xref\": \"paper\", \"y0\": 0.9774870099196976, \"y1\": 0.9774870099196976, \"yref\": \"paper\"}, {\"line\": {\"color\": \"rgba (255, 127, 14, 1)\", \"dash\": \"solid\", \"width\": 4.0}, \"type\": \"line\", \"x0\": 0.011073175232998063, \"x1\": 0.03568023130632709, \"xref\": \"paper\", \"y0\": 0.9302503542749173, \"y1\": 0.9302503542749173, \"yref\": \"paper\"}, {\"line\": {\"color\": \"rgba (214, 39, 40, 1)\", \"dash\": \"solid\", \"width\": 4.0}, \"type\": \"line\", \"x0\": 0.011073175232998063, \"x1\": 0.03568023130632709, \"xref\": \"paper\", \"y0\": 0.8830136986301369, \"y1\": 0.8830136986301369, \"yref\": \"paper\"}, {\"line\": {\"color\": \"rgba (44, 160, 44, 1)\", \"dash\": \"solid\", \"width\": 4.0}, \"type\": \"line\", \"x0\": 0.011073175232998063, \"x1\": 0.03568023130632709, \"xref\": \"paper\", \"y0\": 0.8357770429853566, \"y1\": 0.8357770429853566, \"yref\": \"paper\"}], \"showlegend\": false}}'"
      ]
     },
     "execution_count": 37,
     "metadata": {},
     "output_type": "execute_result"
    }
   ],
   "source": [
    "graphJSON_stock"
   ]
  },
  {
   "cell_type": "code",
   "execution_count": null,
   "id": "08f7b828",
   "metadata": {},
   "outputs": [],
   "source": []
  }
 ],
 "metadata": {
  "kernelspec": {
   "display_name": "Python 3 (ipykernel)",
   "language": "python",
   "name": "python3"
  },
  "language_info": {
   "codemirror_mode": {
    "name": "ipython",
    "version": 3
   },
   "file_extension": ".py",
   "mimetype": "text/x-python",
   "name": "python",
   "nbconvert_exporter": "python",
   "pygments_lexer": "ipython3",
   "version": "3.9.7"
  }
 },
 "nbformat": 4,
 "nbformat_minor": 5
}
