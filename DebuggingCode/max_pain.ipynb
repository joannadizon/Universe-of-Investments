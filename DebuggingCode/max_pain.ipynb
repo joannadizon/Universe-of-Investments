{
 "cells": [
  {
   "cell_type": "code",
   "execution_count": 1,
   "id": "3fc61888",
   "metadata": {},
   "outputs": [],
   "source": [
    "import pandas as pd\n",
    "import yfinance as yf\n",
    "import datetime\n",
    "\n",
    "\n",
    "import matplotlib.pyplot as plt"
   ]
  },
  {
   "cell_type": "code",
   "execution_count": 2,
   "id": "58ed30ff",
   "metadata": {},
   "outputs": [],
   "source": [
    "tk = yf.Ticker(\"AMD\")\n",
    "expiry = '2022-05-20'"
   ]
  },
  {
   "cell_type": "code",
   "execution_count": 3,
   "id": "7994939b",
   "metadata": {},
   "outputs": [],
   "source": [
    "def options_chain(tk, expiry):\n",
    "    '''\n",
    "    Get's the option chain for a given symbol and expiry date and add it to panda df\n",
    "    Credit: https://medium.com/@txlian13/webscrapping-options-data-with-python-and-yfinance-e4deb0124613\n",
    "    '''\n",
    "    # Get options exp\n",
    "    options = pd.DataFrame()\n",
    "    opt = tk.option_chain(expiry.strip())\n",
    "    opt = pd.DataFrame().append(opt.calls).append(opt.puts)\n",
    "    opt['expirationDate'] = expiry\n",
    "    options = options.append(opt, ignore_index=True)\n",
    "    \n",
    "    # Add 1 day to get the correct expiration date\n",
    "    options['expirationDate'] = pd.to_datetime(options['expirationDate']) + datetime.timedelta(days = 1)\n",
    "    options['dte'] = (options['expirationDate'] - datetime.datetime.today()).dt.days / 365\n",
    "    \n",
    "    # Boolean column if the option is a CALL\n",
    "    options['CALL'] = options['contractSymbol'].str[4:].apply(\n",
    "        lambda x: \"C\" in x)\n",
    "    \n",
    "    options[['bid', 'ask', 'strike']] = options[['bid', 'ask', 'strike']].apply(pd.to_numeric)\n",
    "    \n",
    "    # Drop unnecessary and meaningless columns\n",
    "    options = options.drop(columns = ['contractSize', 'currency', 'change', 'percentChange', 'lastTradeDate', 'lastPrice', 'contractSymbol', 'bid', 'ask', 'impliedVolatility', 'inTheMoney', 'dte'])\n",
    "    \n",
    "    return options"
   ]
  },
  {
   "cell_type": "code",
   "execution_count": 4,
   "id": "228f75ed",
   "metadata": {},
   "outputs": [
    {
     "ename": "ValueError",
     "evalue": "Expiration `2022-05-20` cannot be found. Available expiration are: [2022-06-17, 2022-06-24, 2022-07-01, 2022-07-08, 2022-07-15, 2022-07-22, 2022-07-29, 2022-08-19, 2022-09-16, 2022-10-21, 2022-11-18, 2022-12-16, 2023-01-20, 2023-03-17, 2023-04-21, 2023-06-16, 2024-01-19]",
     "output_type": "error",
     "traceback": [
      "\u001b[0;31m---------------------------------------------------------------------------\u001b[0m",
      "\u001b[0;31mValueError\u001b[0m                                Traceback (most recent call last)",
      "Input \u001b[0;32mIn [4]\u001b[0m, in \u001b[0;36m<cell line: 1>\u001b[0;34m()\u001b[0m\n\u001b[0;32m----> 1\u001b[0m chain \u001b[38;5;241m=\u001b[39m \u001b[43moptions_chain\u001b[49m\u001b[43m(\u001b[49m\u001b[43mtk\u001b[49m\u001b[43m,\u001b[49m\u001b[43m \u001b[49m\u001b[43mexpiry\u001b[49m\u001b[43m)\u001b[49m\n",
      "Input \u001b[0;32mIn [3]\u001b[0m, in \u001b[0;36moptions_chain\u001b[0;34m(tk, expiry)\u001b[0m\n\u001b[1;32m      6\u001b[0m \u001b[38;5;66;03m# Get options exp\u001b[39;00m\n\u001b[1;32m      7\u001b[0m options \u001b[38;5;241m=\u001b[39m pd\u001b[38;5;241m.\u001b[39mDataFrame()\n\u001b[0;32m----> 8\u001b[0m opt \u001b[38;5;241m=\u001b[39m \u001b[43mtk\u001b[49m\u001b[38;5;241;43m.\u001b[39;49m\u001b[43moption_chain\u001b[49m\u001b[43m(\u001b[49m\u001b[43mexpiry\u001b[49m\u001b[38;5;241;43m.\u001b[39;49m\u001b[43mstrip\u001b[49m\u001b[43m(\u001b[49m\u001b[43m)\u001b[49m\u001b[43m)\u001b[49m\n\u001b[1;32m      9\u001b[0m opt \u001b[38;5;241m=\u001b[39m pd\u001b[38;5;241m.\u001b[39mDataFrame()\u001b[38;5;241m.\u001b[39mappend(opt\u001b[38;5;241m.\u001b[39mcalls)\u001b[38;5;241m.\u001b[39mappend(opt\u001b[38;5;241m.\u001b[39mputs)\n\u001b[1;32m     10\u001b[0m opt[\u001b[38;5;124m'\u001b[39m\u001b[38;5;124mexpirationDate\u001b[39m\u001b[38;5;124m'\u001b[39m] \u001b[38;5;241m=\u001b[39m expiry\n",
      "File \u001b[0;32m~/opt/anaconda3/envs/ibkr/lib/python3.9/site-packages/yfinance/ticker.py:99\u001b[0m, in \u001b[0;36mTicker.option_chain\u001b[0;34m(self, date, proxy, tz)\u001b[0m\n\u001b[1;32m     97\u001b[0m     \u001b[38;5;28mself\u001b[39m\u001b[38;5;241m.\u001b[39m_download_options()\n\u001b[1;32m     98\u001b[0m \u001b[38;5;28;01mif\u001b[39;00m date \u001b[38;5;129;01mnot\u001b[39;00m \u001b[38;5;129;01min\u001b[39;00m \u001b[38;5;28mself\u001b[39m\u001b[38;5;241m.\u001b[39m_expirations:\n\u001b[0;32m---> 99\u001b[0m     \u001b[38;5;28;01mraise\u001b[39;00m \u001b[38;5;167;01mValueError\u001b[39;00m(\n\u001b[1;32m    100\u001b[0m         \u001b[38;5;124m\"\u001b[39m\u001b[38;5;124mExpiration `\u001b[39m\u001b[38;5;132;01m%s\u001b[39;00m\u001b[38;5;124m` cannot be found. \u001b[39m\u001b[38;5;124m\"\u001b[39m\n\u001b[1;32m    101\u001b[0m         \u001b[38;5;124m\"\u001b[39m\u001b[38;5;124mAvailable expiration are: [\u001b[39m\u001b[38;5;132;01m%s\u001b[39;00m\u001b[38;5;124m]\u001b[39m\u001b[38;5;124m\"\u001b[39m \u001b[38;5;241m%\u001b[39m (\n\u001b[1;32m    102\u001b[0m             date, \u001b[38;5;124m'\u001b[39m\u001b[38;5;124m, \u001b[39m\u001b[38;5;124m'\u001b[39m\u001b[38;5;241m.\u001b[39mjoin(\u001b[38;5;28mself\u001b[39m\u001b[38;5;241m.\u001b[39m_expirations)))\n\u001b[1;32m    103\u001b[0m date \u001b[38;5;241m=\u001b[39m \u001b[38;5;28mself\u001b[39m\u001b[38;5;241m.\u001b[39m_expirations[date]\n\u001b[1;32m    104\u001b[0m options \u001b[38;5;241m=\u001b[39m \u001b[38;5;28mself\u001b[39m\u001b[38;5;241m.\u001b[39m_download_options(date, proxy\u001b[38;5;241m=\u001b[39mproxy)\n",
      "\u001b[0;31mValueError\u001b[0m: Expiration `2022-05-20` cannot be found. Available expiration are: [2022-06-17, 2022-06-24, 2022-07-01, 2022-07-08, 2022-07-15, 2022-07-22, 2022-07-29, 2022-08-19, 2022-09-16, 2022-10-21, 2022-11-18, 2022-12-16, 2023-01-20, 2023-03-17, 2023-04-21, 2023-06-16, 2024-01-19]"
     ]
    }
   ],
   "source": [
    "chain = options_chain(tk, expiry)"
   ]
  },
  {
   "cell_type": "code",
   "execution_count": null,
   "id": "fdccc3ab",
   "metadata": {},
   "outputs": [],
   "source": [
    "def total_loss_on_strike(chain, expiry_price):\n",
    "    '''\n",
    "    Get's the total loss at the given strike price\n",
    "    '''    \n",
    "    # call options with strike price below the expiry price -> loss for option writers\n",
    "    callChain = chain.loc[chain['CALL'] == True]\n",
    "    callChain = callChain.dropna()       \n",
    "    in_money_calls = callChain[callChain['strike'] < expiry_price][[\"openInterest\", \"strike\"]]\n",
    "    in_money_calls[\"CLoss\"] = (expiry_price - in_money_calls['strike'])*in_money_calls[\"openInterest\"]\n",
    "\n",
    "    # get puts n drop null values\n",
    "    putChain = chain.loc[chain['CALL'] == False]\n",
    "    putChain = putChain.dropna()    \n",
    "    \n",
    "    # put options with strike price above the expiry price -> loss for option writers\n",
    "    in_money_puts = putChain[putChain['strike'] > expiry_price][[\"openInterest\", \"strike\"]]\n",
    "    in_money_puts[\"PLoss\"] = (in_money_puts['strike'] - expiry_price)*in_money_puts[\"openInterest\"]\n",
    "    total_loss = in_money_calls[\"CLoss\"].sum() + in_money_puts[\"PLoss\"].sum()\n",
    "\n",
    "    return total_loss"
   ]
  },
  {
   "cell_type": "code",
   "execution_count": null,
   "id": "6c88efc7",
   "metadata": {},
   "outputs": [],
   "source": [
    "total_loss_on_strike(chain, 300)"
   ]
  },
  {
   "cell_type": "code",
   "execution_count": null,
   "id": "2a901d02",
   "metadata": {},
   "outputs": [],
   "source": [
    "def getInput():\n",
    "    '''\n",
    "    gets the user input on symbol and expiry\n",
    "    '''\n",
    "    symbol = input(\"Enter the Symbol: \" )\n",
    "    \n",
    "    tk = yf.Ticker(symbol)\n",
    "    # Expiration dates\n",
    "    exps = tk.options   \n",
    "    print(\"Expiry dates:\")        \n",
    "    for i in exps:\n",
    "        print(f\"{i}\", end=\", \")\n",
    "  \n",
    "    \n",
    "    expiry = input(\"\\nEnter the Expiry data [format: YYYY-MM-DD]: \" )\n",
    "    return tk, expiry, symbol"
   ]
  },
  {
   "cell_type": "code",
   "execution_count": null,
   "id": "0d60bf90",
   "metadata": {},
   "outputs": [],
   "source": [
    "getInput()"
   ]
  },
  {
   "cell_type": "code",
   "execution_count": null,
   "id": "c16f09cb",
   "metadata": {},
   "outputs": [],
   "source": [
    "def main():\n",
    "    '''\n",
    "    Get's the symbol and expiry date n plot the data\n",
    "    '''\n",
    "    # gets the user input on symbol and expiry\n",
    "    tk, expiry, symbol = getInput()\n",
    "    chain = options_chain(tk, expiry)\n",
    "    \n",
    "    strikes = chain.get(['strike']).values.tolist()\n",
    "    losses = [total_loss_on_strike(chain, strike[0]) for strike in strikes] \n",
    "    \n",
    "    # max pain min loss to option writers/sellers at strike price\n",
    "    flat_strikes = [item for sublist in strikes for item in sublist]\n",
    "    point = losses.index(min(losses))\n",
    "    max_pain = flat_strikes[point]\n",
    "    buffer = 3\n",
    "    bufferHigh = max_pain + (max_pain * (buffer/100))\n",
    "    bufferLow = max_pain - (max_pain * (buffer/100))\n",
    "    print(f\"Maximum Pain: {bufferLow} < {max_pain} < {bufferHigh}\")\n",
    "    \n",
    "    # calc put to call ratio\n",
    "    callChain = chain.loc[chain['CALL'] == True]\n",
    "    putChain = chain.loc[chain['CALL'] == False]\n",
    "    pcr = putChain[\"volume\"].sum() / callChain[\"volume\"].sum()\n",
    "    print(\"Put to call ratio:\", round(pcr,2))\n",
    "    \n",
    "    # get the cummulated losses\n",
    "    total = {}\n",
    "    for i in range(len(flat_strikes)):\n",
    "        if flat_strikes[i] not in total: total[flat_strikes[i]] = losses[i]\n",
    "        else: total[flat_strikes[i]] += losses[i]\n",
    "            \n",
    "    \n",
    "    # plot\n",
    "    keys = set(list(total.keys()))\n",
    "    plt.figure(figsize = (15, 6))\n",
    "    plt.bar(list(keys), list(total.values()), width=1)\n",
    "    plt.xlabel('Strike Price')\n",
    "    plt.title(f'{symbol.upper()} Max Pain')    "
   ]
  },
  {
   "cell_type": "code",
   "execution_count": null,
   "id": "7362f7c3",
   "metadata": {},
   "outputs": [],
   "source": [
    "main()"
   ]
  },
  {
   "cell_type": "code",
   "execution_count": null,
   "id": "4220765e",
   "metadata": {},
   "outputs": [],
   "source": []
  }
 ],
 "metadata": {
  "kernelspec": {
   "display_name": "Python 3 (ipykernel)",
   "language": "python",
   "name": "python3"
  },
  "language_info": {
   "codemirror_mode": {
    "name": "ipython",
    "version": 3
   },
   "file_extension": ".py",
   "mimetype": "text/x-python",
   "name": "python",
   "nbconvert_exporter": "python",
   "pygments_lexer": "ipython3",
   "version": "3.9.7"
  }
 },
 "nbformat": 4,
 "nbformat_minor": 5
}
